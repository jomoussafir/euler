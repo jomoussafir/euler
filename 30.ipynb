{
 "cells": [
  {
   "cell_type": "code",
   "execution_count": 1,
   "id": "3fc5a69e-f2ba-49b9-badf-14c43493a926",
   "metadata": {},
   "outputs": [],
   "source": [
    "import numpy as np"
   ]
  },
  {
   "cell_type": "code",
   "execution_count": 9,
   "id": "e82dc877-8d59-472f-8578-60a2b5dc9e44",
   "metadata": {},
   "outputs": [
    {
     "data": {
      "text/plain": [
       "[4150, 4151, 54748, 92727, 93084, 194979]"
      ]
     },
     "execution_count": 9,
     "metadata": {},
     "output_type": "execute_result"
    }
   ],
   "source": [
    "l = []\n",
    "for i in np.arange(2, 1000000):\n",
    "    i_digits = [int(j) for j in str(i)]\n",
    "    z = sum([j**5 for j in i_digits])\n",
    "    if z==i:\n",
    "        l.append(i)\n",
    "l"
   ]
  },
  {
   "cell_type": "code",
   "execution_count": 10,
   "id": "5be70ab1-5d7a-496d-8f01-32fed270d2bc",
   "metadata": {},
   "outputs": [
    {
     "data": {
      "text/plain": [
       "443839"
      ]
     },
     "execution_count": 10,
     "metadata": {},
     "output_type": "execute_result"
    }
   ],
   "source": [
    "sum(l)"
   ]
  },
  {
   "cell_type": "code",
   "execution_count": 14,
   "id": "cd8cae9d-5fd2-43e6-b0f2-de11fff5a33b",
   "metadata": {},
   "outputs": [
    {
     "data": {
      "text/plain": [
       "0.8704000000000001"
      ]
     },
     "execution_count": 14,
     "metadata": {},
     "output_type": "execute_result"
    }
   ],
   "source": [
    "1 - (3/5)**4"
   ]
  },
  {
   "cell_type": "code",
   "execution_count": null,
   "id": "38af0a61-be39-4d0e-971c-972b73b41a53",
   "metadata": {},
   "outputs": [],
   "source": []
  }
 ],
 "metadata": {
  "kernelspec": {
   "display_name": "Python 3",
   "language": "python",
   "name": "python3"
  },
  "language_info": {
   "codemirror_mode": {
    "name": "ipython",
    "version": 3
   },
   "file_extension": ".py",
   "mimetype": "text/x-python",
   "name": "python",
   "nbconvert_exporter": "python",
   "pygments_lexer": "ipython3",
   "version": "3.8.3"
  }
 },
 "nbformat": 4,
 "nbformat_minor": 5
}
