{
 "cells": [
  {
   "cell_type": "code",
   "execution_count": 1,
   "id": "d36c5b6f-b9a8-4c04-b5c2-c72e0f377510",
   "metadata": {},
   "outputs": [],
   "source": [
    "import numpy as np"
   ]
  },
  {
   "cell_type": "code",
   "execution_count": 8,
   "id": "4f0ec798-5601-4619-a695-58fd0f2f2d61",
   "metadata": {},
   "outputs": [],
   "source": [
    "l = []\n",
    "for a in range(2, 101):\n",
    "    for b in range(2, 101):\n",
    "        l.append(a**b)\n",
    "\n",
    "l = list(set(l))\n",
    "l.sort()"
   ]
  },
  {
   "cell_type": "code",
   "execution_count": 10,
   "id": "f3dd79ce-ece8-4c2d-86a6-ac9707ee0483",
   "metadata": {},
   "outputs": [
    {
     "data": {
      "text/plain": [
       "9183"
      ]
     },
     "execution_count": 10,
     "metadata": {},
     "output_type": "execute_result"
    }
   ],
   "source": [
    "len(l)"
   ]
  },
  {
   "cell_type": "code",
   "execution_count": null,
   "id": "a5a61e07-2580-4249-8335-6f832bc68218",
   "metadata": {},
   "outputs": [],
   "source": []
  }
 ],
 "metadata": {
  "kernelspec": {
   "display_name": "Python 3",
   "language": "python",
   "name": "python3"
  },
  "language_info": {
   "codemirror_mode": {
    "name": "ipython",
    "version": 3
   },
   "file_extension": ".py",
   "mimetype": "text/x-python",
   "name": "python",
   "nbconvert_exporter": "python",
   "pygments_lexer": "ipython3",
   "version": "3.8.3"
  }
 },
 "nbformat": 4,
 "nbformat_minor": 5
}
