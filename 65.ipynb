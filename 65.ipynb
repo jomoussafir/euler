{
 "cells": [
  {
   "cell_type": "code",
   "execution_count": 1,
   "metadata": {},
   "outputs": [],
   "source": [
    "import numpy as np\n",
    "import matplotlib.pyplot as plt"
   ]
  },
  {
   "cell_type": "markdown",
   "metadata": {},
   "source": [
    "{\\begin{aligned}h_{{-2}}=0,\\quad &h_{{-1}}=1,\\quad &h_{p}=a_{p}h_{{p-1}}+h_{{p-2}}\\\\k_{{-2}}=1,\\quad &k_{{-1}}=0,\\quad &k_{p}=a_{p}k_{{p-1}}+k_{{p-2}}.\\end{aligned}}"
   ]
  },
  {
   "cell_type": "code",
   "execution_count": 2,
   "metadata": {},
   "outputs": [],
   "source": [
    "def GCD(x, y):\n",
    "    while(y):\n",
    "        x, y = y, x % y\n",
    "    return abs(x)\n",
    "\n",
    "def CF(a):\n",
    "    h={}\n",
    "    k={}\n",
    "    h[-2]=0; h[-1]=1\n",
    "    k[-2]=1; k[-1]=0\n",
    "\n",
    "    for i in range(len(a)):\n",
    "        h[i] = int(a[i]*h[i-1] + h[i-2])\n",
    "        k[i] = int(a[i]*k[i-1] + k[i-2])\n",
    "        \n",
    "    return h,k"
   ]
  },
  {
   "cell_type": "markdown",
   "metadata": {},
   "source": [
    "## Cont Frac of e"
   ]
  },
  {
   "cell_type": "code",
   "execution_count": 140,
   "metadata": {},
   "outputs": [
    {
     "data": {
      "text/plain": [
       "272"
      ]
     },
     "execution_count": 140,
     "metadata": {},
     "output_type": "execute_result"
    }
   ],
   "source": [
    "n = 100\n",
    "a = [0]*(3*n+2)\n",
    "\n",
    "for i in range(n):\n",
    "    a[3*i]=1\n",
    "    a[3*i+1]=1\n",
    "    a[3*i+2]=2*(i+1)\n",
    "\n",
    "a[0]+=1\n",
    "sum([int(d) for d in str(h[99])])"
   ]
  },
  {
   "cell_type": "code",
   "execution_count": null,
   "metadata": {},
   "outputs": [],
   "source": []
  }
 ],
 "metadata": {
  "kernelspec": {
   "display_name": "Python 3",
   "language": "python",
   "name": "python3"
  },
  "language_info": {
   "codemirror_mode": {
    "name": "ipython",
    "version": 3
   },
   "file_extension": ".py",
   "mimetype": "text/x-python",
   "name": "python",
   "nbconvert_exporter": "python",
   "pygments_lexer": "ipython3",
   "version": "3.8.3"
  }
 },
 "nbformat": 4,
 "nbformat_minor": 4
}
