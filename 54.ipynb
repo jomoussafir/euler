{
 "cells": [
  {
   "cell_type": "code",
   "execution_count": 26,
   "id": "2d03f8e1-7624-4fa8-83a5-f2c2b070b744",
   "metadata": {},
   "outputs": [],
   "source": [
    "import numpy as np\n",
    "import pandas as pd"
   ]
  },
  {
   "cell_type": "markdown",
   "id": "76e3e291-2b3e-4357-94ac-f56324fcde88",
   "metadata": {},
   "source": [
    "* High Card: Highest value card.\n",
    "* One Pair: Two cards of the same value.\n",
    "* Two Pairs: Two different pairs.\n",
    "* Three of a Kind: Three cards of the same value.\n",
    "* Straight: All cards are consecutive values.\n",
    "* Flush: All cards of the same suit.\n",
    "* Full House: Three of a kind and a pair.\n",
    "* Four of a Kind: Four cards of the same value.\n",
    "* Straight Flush: All cards are consecutive values of same suit.\n",
    "* Royal Flush: Ten, Jack, Queen, King, Ace, in same suit.\n",
    "* The cards are valued in the order: 2, 3, 4, 5, 6, 7, 8, 9, 10, Jack, Queen, King, Ace."
   ]
  },
  {
   "cell_type": "markdown",
   "id": "fcc6c16a-ec7a-4a05-947d-49f4e18a9231",
   "metadata": {},
   "source": [
    "There are 3 kinds of hands\n",
    "* multiples : 1P, 2P, Triple, Full, Square\n",
    "* sequence : Straight\n",
    "* flush: Flush, StraightFlush, RoyalFlush\n",
    "\n",
    "* If multiple, one needs to encode the value of each repeated card and the values of remaining\n",
    "    * ((4,2), (5,2), (T,1)) for 2P\n",
    "    * ((J,4), (3,1))\n",
    "* If flush, one needs to encode Straight and Royal"
   ]
  },
  {
   "cell_type": "code",
   "execution_count": 27,
   "id": "08c5e8e4-6e0e-4c9f-bb43-a4240033de2a",
   "metadata": {},
   "outputs": [],
   "source": [
    "f = open(\"0054_poker.txt\")\n",
    "l = f.readlines()\n",
    "f.close()"
   ]
  },
  {
   "cell_type": "code",
   "execution_count": 86,
   "id": "b8a46f55-b59f-4d5f-bbe4-8cae1afee099",
   "metadata": {},
   "outputs": [],
   "source": [
    "hand_order = {}\n",
    "hand_order[\"Plain\"]=0\n",
    "hand_order[\"1P\"]=1\n",
    "hand_order[\"2P\"]=2\n",
    "hand_order[\"Triple\"]=3\n",
    "hand_order[\"Straight\"]=4\n",
    "hand_order[\"Flush\"]=5\n",
    "hand_order[\"Full\"]=6\n",
    "hand_order[\"Square\"]=7\n",
    "hand_order[\"SFlush\"]=8\n",
    "hand_order[\"RFlush\"]=9\n",
    "\n",
    "def comp_hand(h1,h2, type):\n",
    "    if type==\"Plain\":\n",
    "        dh = h1.sum(axis=1).values - h2.sum(axis=1).values\n",
    "        dh_abs = np.abs(dh)\n",
    "        idx = np.argwhere(dh_abs>0)\n",
    "        if len(idx)>0:\n",
    "            res=np.sign(dh[np.max(np.argwhere(dh_abs>0))])\n",
    "        else:\n",
    "            res=0\n",
    "    else:\n",
    "        M1 = max(h1.sum(axis=1).values)\n",
    "        M2 = max(h2.sum(axis=1).values)\n",
    "        V1 = h1.sum(axis=1).values.argmax()\n",
    "        V2 = h2.sum(axis=1).values.argmax()\n",
    "\n",
    "        if V1>V2:\n",
    "            res=1\n",
    "        elif V2>V1:\n",
    "            res=-1\n",
    "        else:\n",
    "            dh = h1.sum(axis=1).values - h2.sum(axis=1).values\n",
    "            dh_abs = np.abs(dh)\n",
    "            idx = np.argwhere(dh_abs>0)\n",
    "            if len(idx)>0:\n",
    "                res = np.sign(dh[np.max(np.argwhere(dh_abs>0))])\n",
    "            else:\n",
    "                res = 0\n",
    "    return res\n",
    "\n",
    "def hand(h1):\n",
    "    h1_sum = h1.sum(axis=1).to_frame().rename(columns={0:\"cnt\"})\n",
    "    M = max(h1_sum[\"cnt\"])\n",
    "        \n",
    "    if M==2 and h1_sum.loc[h1_sum.cnt == M].shape[0]==1:\n",
    "        hand_type = \"1P\"\n",
    "    \n",
    "    if M==2 and h1_sum.loc[h1_sum.cnt == M].shape[0]==2:\n",
    "        hand_type = \"2P\"\n",
    "    \n",
    "    if M==3 and h1_sum.loc[h1_sum.cnt == 2].shape[0]==0:\n",
    "        hand_type = \"Triple\"\n",
    "    \n",
    "    if M==3 and h1_sum.loc[h1_sum.cnt == 2].shape[0]==1:\n",
    "        hand_type = \"Full\"\n",
    "    \n",
    "    if M==4:\n",
    "        hand_type = \"Square\"\n",
    "    \n",
    "    if M==1:\n",
    "        h1_vsum = h1.sum(axis=0).to_frame().rename(columns={0:\"cnt\"})\n",
    "        if max(h1_vsum[\"cnt\"]) <5:\n",
    "            h1_hsum = h1.sum(axis=1).to_frame().rename(columns={0:\"cnt\"})\n",
    "            h1_hsum.reset_index(inplace=True)\n",
    "            idx=[int(i) for i in h1_hsum.loc[h1_hsum.cnt==1].index]\n",
    "            if max(idx) - min(idx) == 4:\n",
    "                hand_type=\"Straight\"\n",
    "            else:\n",
    "                hand_type = \"Plain\"\n",
    "        else:\n",
    "            cname = h1_vsum.loc[h1_vsum.cnt==5, \"cnt\"].index[0]\n",
    "            h1_tmp = h1.reset_index(drop=True)\n",
    "            idx = [int(i)  for i in list(h1_tmp.loc[h1_tmp[cname]==1, cname].index)]\n",
    "            if max(idx) - min(idx) == 4:\n",
    "                if h1.loc[\"A\",cname]==1:\n",
    "                    hand_type = \"RFlush\"\n",
    "                else:\n",
    "                    hand_type = \"SFlush\"\n",
    "            else:\n",
    "                hand_type = \"Flush\"\n",
    "    return hand_type"
   ]
  },
  {
   "cell_type": "code",
   "execution_count": 90,
   "id": "b8c4e1b9-0453-48e1-9cf3-fbd13c1c4266",
   "metadata": {},
   "outputs": [
    {
     "name": "stdout",
     "output_type": "stream",
     "text": [
      "CPU times: user 3.48 s, sys: 135 ms, total: 3.62 s\n",
      "Wall time: 3.52 s\n"
     ]
    },
    {
     "data": {
      "text/plain": [
       "376"
      ]
     },
     "execution_count": 90,
     "metadata": {},
     "output_type": "execute_result"
    }
   ],
   "source": [
    "%%time\n",
    "\n",
    "score1=0\n",
    "score2=0\n",
    "even=0\n",
    "even_idx=[]\n",
    "df_list = []\n",
    "for i in np.arange(len(l)):\n",
    "\n",
    "    h1 = pd.DataFrame(np.zeros((13,4), dtype='int'), \n",
    "                 index=[str(i) for i in list(np.arange(2,10))] + ['T','J','Q','K','A'], \n",
    "                 columns=['H','D','C','S'])\n",
    "    for c in l[i].strip().split(' ')[:5]:\n",
    "        h1.loc[c[0],c[1]]=1\n",
    "    \n",
    "    h2 = pd.DataFrame(np.zeros((13,4), dtype='int'), \n",
    "                 index=[str(i) for i in list(np.arange(2,10))] + ['T','J','Q','K','A'], \n",
    "                 columns=['H','D','C','S'])        \n",
    "    for c in l[i].strip().split(' ')[5:]:\n",
    "        h2.loc[c[0],c[1]]=1\n",
    "\n",
    "    hand_h1 = hand(h1)\n",
    "    hand_h2 = hand(h2)\n",
    "    \n",
    "    if(hand_order[hand_h1]>hand_order[hand_h2]):\n",
    "        score1+=1\n",
    "        df_list.append(pd.DataFrame({\"idx\":[i],\"h1\":1,\"h2\":0}))\n",
    "    if(hand_order[hand_h1]<hand_order[hand_h2]):\n",
    "        score2+=1\n",
    "        df_list.append(pd.DataFrame({\"idx\":[i],\"h1\":0,\"h2\":1}))\n",
    "        \n",
    "    if(hand_order[hand_h1]==hand_order[hand_h2]) and hand_h1 in [\"Plain\", \"1P\"]:\n",
    "        if comp_hand(h1,h2,hand_h1)>=1:\n",
    "            score1+=1\n",
    "            df_list.append(pd.DataFrame({\"idx\":[i],\"h1\":1,\"h2\":0}))\n",
    "        elif comp_hand(h1,h2,hand_h1)<=-1:\n",
    "            score2+=1\n",
    "            df_list.append(pd.DataFrame({\"idx\":[i],\"h1\":0,\"h2\":1}))\n",
    "        else:\n",
    "            even+=1\n",
    "            even_idx+=[i]\n",
    "\n",
    "score1"
   ]
  },
  {
   "cell_type": "code",
   "execution_count": null,
   "id": "5b6450d9-988d-44ae-88cc-c61b24e83146",
   "metadata": {},
   "outputs": [],
   "source": []
  }
 ],
 "metadata": {
  "kernelspec": {
   "display_name": "Python 3 (ipykernel)",
   "language": "python",
   "name": "python3"
  },
  "language_info": {
   "codemirror_mode": {
    "name": "ipython",
    "version": 3
   },
   "file_extension": ".py",
   "mimetype": "text/x-python",
   "name": "python",
   "nbconvert_exporter": "python",
   "pygments_lexer": "ipython3",
   "version": "3.11.5"
  }
 },
 "nbformat": 4,
 "nbformat_minor": 5
}
