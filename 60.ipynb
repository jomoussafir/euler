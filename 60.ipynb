{
 "cells": [
  {
   "cell_type": "code",
   "execution_count": 68,
   "id": "02b3f47f-de4b-4231-af83-038bf7c01b35",
   "metadata": {},
   "outputs": [],
   "source": [
    "import numpy as np\n",
    "from sympy import *\n",
    "from sympy.ntheory import isprime\n",
    "\n",
    "from tqdm.auto import trange, tqdm"
   ]
  },
  {
   "cell_type": "markdown",
   "id": "1d11c29d-65b8-486e-84ee-cb99fc59730b",
   "metadata": {},
   "source": [
    "https://projecteuler.net/problem=60"
   ]
  },
  {
   "cell_type": "code",
   "execution_count": 56,
   "id": "595e2fad-564e-4b7f-9caa-333b504e7ef9",
   "metadata": {},
   "outputs": [],
   "source": []
  },
  {
   "cell_type": "code",
   "execution_count": 57,
   "id": "913dfe65-5476-4529-ae0a-2cad9140c0a2",
   "metadata": {},
   "outputs": [],
   "source": [
    "def e60(p, l):\n",
    "    p_str = str(p)\n",
    "    return all([isprime(int(p_str + q_str)) for q_str in l] + [isprime(int(q_str + p_str)) for q_str in l])"
   ]
  },
  {
   "cell_type": "code",
   "execution_count": 70,
   "id": "9f6e5248-4b51-47a0-a8b4-7843360906c9",
   "metadata": {},
   "outputs": [
    {
     "data": {
      "application/vnd.jupyter.widget-view+json": {
       "model_id": "8890a9c977744a09b5d2b06767670e90",
       "version_major": 2,
       "version_minor": 0
      },
      "text/plain": [
       "  0%|          | 0/1229 [00:00<?, ?it/s]"
      ]
     },
     "metadata": {},
     "output_type": "display_data"
    }
   ],
   "source": [
    "p_list = [p for p in primerange(10000)]\n",
    "l = []\n",
    "for p in tqdm(p_list): \n",
    "#    print(\"=\"*3)\n",
    "#    print(l)\n",
    "#    print(p)\n",
    "    l_tmp = [[str(p)]]\n",
    "    for e in l:\n",
    "        if e60(p, e):\n",
    "            l_tmp.append(e + [str(p)])\n",
    "    l = l + l_tmp"
   ]
  },
  {
   "cell_type": "code",
   "execution_count": 72,
   "id": "11ee1d24-bd46-4d8d-8e15-7c36c6e51d43",
   "metadata": {},
   "outputs": [
    {
     "name": "stdout",
     "output_type": "stream",
     "text": [
      "['13', '5197', '5701', '6733', '8389']\n",
      "26033\n"
     ]
    }
   ],
   "source": [
    "for e in l:\n",
    "    if len(e)>=5:\n",
    "        print(e)\n",
    "        print(sum([int(i) for i in e]))"
   ]
  },
  {
   "cell_type": "code",
   "execution_count": null,
   "id": "c660f618-e72f-42a8-9887-9aaeeb47232e",
   "metadata": {},
   "outputs": [],
   "source": []
  }
 ],
 "metadata": {
  "kernelspec": {
   "display_name": "Python 3 (ipykernel)",
   "language": "python",
   "name": "python3"
  },
  "language_info": {
   "codemirror_mode": {
    "name": "ipython",
    "version": 3
   },
   "file_extension": ".py",
   "mimetype": "text/x-python",
   "name": "python",
   "nbconvert_exporter": "python",
   "pygments_lexer": "ipython3",
   "version": "3.11.5"
  }
 },
 "nbformat": 4,
 "nbformat_minor": 5
}
