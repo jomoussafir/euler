{
 "cells": [
  {
   "cell_type": "code",
   "execution_count": 1,
   "id": "ce73ed59-ac34-4933-a1f0-afacd3d9744b",
   "metadata": {},
   "outputs": [],
   "source": [
    "import numpy as np"
   ]
  },
  {
   "cell_type": "code",
   "execution_count": 2,
   "id": "38125928-0596-4164-99c2-f1dbd80239e9",
   "metadata": {},
   "outputs": [
    {
     "name": "stdout",
     "output_type": "stream",
     "text": [
      "123456789\n",
      "24681012141618\n",
      "369121518212427\n",
      "4812162024283236\n",
      "51015202530354045\n",
      "61218243036424854\n",
      "71421283542495663\n",
      "81624324048566472\n",
      "91827364554637281\n"
     ]
    }
   ],
   "source": [
    "for m in range(1, 10):\n",
    "    \n",
    "    z = int(\"\".join([str(i) for i in m*np.arange(1, 10)]))\n",
    "    print(z)"
   ]
  },
  {
   "cell_type": "code",
   "execution_count": 24,
   "id": "6c2fb7eb-f410-477c-a935-8a406bc85d30",
   "metadata": {},
   "outputs": [],
   "source": [
    "digit_str_set = set([str(i) for i in list(range(1,10))])"
   ]
  },
  {
   "cell_type": "code",
   "execution_count": 32,
   "id": "686742f5-ed5e-488d-b8e6-4ed40cd9ff75",
   "metadata": {},
   "outputs": [
    {
     "data": {
      "text/plain": [
       "[192384576,\n",
       " 219438657,\n",
       " 273546819,\n",
       " 327654981,\n",
       " 672913458,\n",
       " 679213584,\n",
       " 692713854,\n",
       " 726914538,\n",
       " 729314586,\n",
       " 732914658,\n",
       " 769215384,\n",
       " 792315846,\n",
       " 793215864,\n",
       " 918273645,\n",
       " 926718534,\n",
       " 927318546,\n",
       " 932718654]"
      ]
     },
     "execution_count": 32,
     "metadata": {},
     "output_type": "execute_result"
    }
   ],
   "source": [
    "\n",
    "l=[]\n",
    "for m in np.arange(9, 100000):\n",
    "    k=2\n",
    "    z_str=\"\".join([str(i) for i in m*np.arange(1, k)])\n",
    "    z_str_tmp=z_str\n",
    "    while len(z_str_tmp)<9:\n",
    "        k+=1\n",
    "        z_str_tmp=\"\".join([str(i) for i in m*np.arange(1, k)])\n",
    "\n",
    "        if(len(z_str_tmp)<=9):\n",
    "            z_str = z_str_tmp\n",
    "    if set(list(z_str)) == digit_str_set:\n",
    "        l.append(z_str)\n",
    "\n",
    "res = [int(s) for s in l]\n",
    "res.sort()\n",
    "res"
   ]
  },
  {
   "cell_type": "code",
   "execution_count": null,
   "id": "27dd3020-6c34-4645-b3e5-c25da5226140",
   "metadata": {},
   "outputs": [],
   "source": []
  }
 ],
 "metadata": {
  "kernelspec": {
   "display_name": "Python 3",
   "language": "python",
   "name": "python3"
  },
  "language_info": {
   "codemirror_mode": {
    "name": "ipython",
    "version": 3
   },
   "file_extension": ".py",
   "mimetype": "text/x-python",
   "name": "python",
   "nbconvert_exporter": "python",
   "pygments_lexer": "ipython3",
   "version": "3.8.3"
  }
 },
 "nbformat": 4,
 "nbformat_minor": 5
}
