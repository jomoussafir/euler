{
 "cells": [
  {
   "cell_type": "code",
   "execution_count": 26,
   "id": "e97c465f-3678-4ced-8419-5a5e4489b25e",
   "metadata": {},
   "outputs": [],
   "source": [
    "import numpy as np\n",
    "from itertools import permutations\n",
    "from tqdm.auto import trange, tqdm"
   ]
  },
  {
   "cell_type": "code",
   "execution_count": 27,
   "id": "8f52f504-4ac1-4d54-a266-4ad0887afab2",
   "metadata": {},
   "outputs": [
    {
     "data": {
      "text/plain": [
       "3628800"
      ]
     },
     "execution_count": 27,
     "metadata": {},
     "output_type": "execute_result"
    }
   ],
   "source": [
    "2*3*4*5*6*7*8*9*10"
   ]
  },
  {
   "cell_type": "code",
   "execution_count": 74,
   "id": "c3839d9b-a95d-4495-8b4c-3900d8ec6ba6",
   "metadata": {},
   "outputs": [
    {
     "data": {
      "application/vnd.jupyter.widget-view+json": {
       "model_id": "b9303fb41519498ea8699abb63d8eb3a",
       "version_major": 2,
       "version_minor": 0
      },
      "text/plain": [
       "  0%|          | 0/2 [00:00<?, ?it/s]"
      ]
     },
     "metadata": {},
     "output_type": "display_data"
    },
    {
     "name": "stdout",
     "output_type": "stream",
     "text": [
      "----------\n",
      "345 41063625\n",
      "{384, 345, 405}\n",
      "[56623104, 41063625, 66430125]\n"
     ]
    }
   ],
   "source": [
    "eps = 0.000001\n",
    "for i in tqdm(np.arange(345, 347)):\n",
    "    e = i*i*i\n",
    "    perm = permutations(list(str(e)))\n",
    "    l = set()\n",
    "    for p_str in perm:\n",
    "        p = int(''.join(p_str))\n",
    "        p_crt = float(p)**(1/3)\n",
    "        if(np.abs(p_crt - np.round(p_crt))) < eps:\n",
    "            l.add(int(np.round(p_crt)))\n",
    "    if len(l)>=3:\n",
    "        print('-'*10)\n",
    "        print(i, e)\n",
    "        print(l)\n",
    "        print([k**3 for k in l])"
   ]
  },
  {
   "cell_type": "markdown",
   "id": "00aba40d-1772-4bac-ac0f-379e5c5614a0",
   "metadata": {},
   "source": [
    "The cube 41063625 , can be permuted to produce two other cubes: 56623104 and 66430125. In fact, 41063625 is the smallest \n",
    "cube which has exactly three permutations of its digits which are also cube. \n",
    "\n",
    "Could you produce a python script that finds the smallest cube for which exactly five permutations of its digits are cube ?"
   ]
  },
  {
   "cell_type": "code",
   "execution_count": 76,
   "id": "2fafd8c0-2413-41fc-8c94-1b3d2c846f39",
   "metadata": {},
   "outputs": [
    {
     "name": "stdout",
     "output_type": "stream",
     "text": [
      "The smallest cube with exactly five cube permutations is: 1426487591593\n"
     ]
    }
   ],
   "source": [
    "from collections import defaultdict\n",
    "\n",
    "def get_cube_permutations(n):\n",
    "    cube_dict = defaultdict(list)\n",
    "    cube_count = defaultdict(int)\n",
    "\n",
    "    i = 1\n",
    "    while True:\n",
    "        cube = i ** 3\n",
    "        cube_str = ''.join(sorted(str(cube)))\n",
    "        cube_dict[cube_str].append(cube)\n",
    "        cube_count[cube_str] += 1\n",
    "\n",
    "        if cube_count[cube_str] == n:\n",
    "            return min(cube_dict[cube_str])\n",
    "\n",
    "        i += 1\n",
    "\n",
    "result = get_cube_permutations(6)\n",
    "print(f\"The smallest cube with exactly five cube permutations is: {result}\")"
   ]
  },
  {
   "cell_type": "code",
   "execution_count": null,
   "id": "5e2c688b-3c4d-4c0b-bb5a-22a82de473ac",
   "metadata": {},
   "outputs": [],
   "source": []
  }
 ],
 "metadata": {
  "kernelspec": {
   "display_name": "Python 3 (ipykernel)",
   "language": "python",
   "name": "python3"
  },
  "language_info": {
   "codemirror_mode": {
    "name": "ipython",
    "version": 3
   },
   "file_extension": ".py",
   "mimetype": "text/x-python",
   "name": "python",
   "nbconvert_exporter": "python",
   "pygments_lexer": "ipython3",
   "version": "3.11.5"
  }
 },
 "nbformat": 4,
 "nbformat_minor": 5
}
