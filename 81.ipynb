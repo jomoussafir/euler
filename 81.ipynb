{
 "cells": [
  {
   "cell_type": "code",
   "execution_count": 28,
   "id": "daa645f6-2093-440d-bf96-70128bd6da06",
   "metadata": {},
   "outputs": [],
   "source": [
    "import sys\n",
    "import numpy as np\n",
    "import pandas as pd\n",
    "np.set_printoptions(threshold=sys.maxsize)\n",
    "np.set_printoptions(linewidth=100)"
   ]
  },
  {
   "cell_type": "code",
   "execution_count": 65,
   "id": "907d90a7-4409-453f-8c5d-789341ca6e92",
   "metadata": {},
   "outputs": [],
   "source": [
    "a = pd.read_csv(\"0081_matrix.txt\", header=None).to_numpy()#[:5,:5]"
   ]
  },
  {
   "cell_type": "code",
   "execution_count": 66,
   "id": "1daf35e5-f787-43fc-9764-98d0b44c54f7",
   "metadata": {},
   "outputs": [],
   "source": [
    "n = a.shape[0]"
   ]
  },
  {
   "cell_type": "code",
   "execution_count": 67,
   "id": "2b473fc5-e456-4f66-9169-4d4b6c28637b",
   "metadata": {},
   "outputs": [
    {
     "data": {
      "text/plain": [
       "427337"
      ]
     },
     "execution_count": 67,
     "metadata": {},
     "output_type": "execute_result"
    }
   ],
   "source": [
    "a_opt = np.zeros_like(a)\n",
    "a_opt[0] =  np.cumsum(a[0])\n",
    "a_opt[:,0] = np.cumsum(a[:, 0])\n",
    "\n",
    "for k in np.arange(1,n):\n",
    "#    print(a_opt)\n",
    "    for j in np.arange(k, n):\n",
    "        a_opt[k,j] = min(a[k,j] + a_opt[k,j-1], a[k,j] + a_opt[k-1,j])\n",
    "\n",
    "    for i in np.arange(k, n):\n",
    "        a_opt[i,k] = min(a[i,k] + a_opt[i,k-1], a[i,k] + a_opt[i-1,k])\n",
    "    \n",
    "a_opt[n-1,n-1]"
   ]
  },
  {
   "cell_type": "code",
   "execution_count": null,
   "id": "d8f6da8d-0e13-4e90-8ac3-b95240cb14b7",
   "metadata": {},
   "outputs": [],
   "source": []
  }
 ],
 "metadata": {
  "kernelspec": {
   "display_name": "Python 3",
   "language": "python",
   "name": "python3"
  },
  "language_info": {
   "codemirror_mode": {
    "name": "ipython",
    "version": 3
   },
   "file_extension": ".py",
   "mimetype": "text/x-python",
   "name": "python",
   "nbconvert_exporter": "python",
   "pygments_lexer": "ipython3",
   "version": "3.8.3"
  }
 },
 "nbformat": 4,
 "nbformat_minor": 5
}
