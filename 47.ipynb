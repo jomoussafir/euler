{
 "cells": [
  {
   "cell_type": "code",
   "execution_count": 64,
   "id": "88ac19e6-3240-4ba1-8055-a9d60def5238",
   "metadata": {},
   "outputs": [
    {
     "name": "stdout",
     "output_type": "stream",
     "text": [
      "134043\n"
     ]
    }
   ],
   "source": [
    "import primefac\n",
    "\n",
    "l = []\n",
    "for i in range(2, 200000):\n",
    "    l.append([i, len(set(list( primefac.primefac(i) )))])\n",
    "for i in range(len(l)):\n",
    "    if l[i][1]==4 and l[i+1][1]==4 and l[i+2][1]==4 and l[i+3][1]==4:\n",
    "        print(l[i][0])"
   ]
  },
  {
   "cell_type": "code",
   "execution_count": 61,
   "id": "5bf23a17-7e17-4a50-97c8-0999f03eb498",
   "metadata": {},
   "outputs": [
    {
     "data": {
      "text/plain": [
       "[646, 3]"
      ]
     },
     "execution_count": 61,
     "metadata": {},
     "output_type": "execute_result"
    }
   ],
   "source": [
    "l[644]"
   ]
  },
  {
   "cell_type": "code",
   "execution_count": null,
   "id": "8f656bcf-67f6-44a3-b6b0-84e55cbb8ba2",
   "metadata": {},
   "outputs": [],
   "source": []
  }
 ],
 "metadata": {
  "kernelspec": {
   "display_name": "Python 3",
   "language": "python",
   "name": "python3"
  },
  "language_info": {
   "codemirror_mode": {
    "name": "ipython",
    "version": 3
   },
   "file_extension": ".py",
   "mimetype": "text/x-python",
   "name": "python",
   "nbconvert_exporter": "python",
   "pygments_lexer": "ipython3",
   "version": "3.8.3"
  }
 },
 "nbformat": 4,
 "nbformat_minor": 5
}
