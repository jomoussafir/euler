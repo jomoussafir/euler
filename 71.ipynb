{
 "cells": [
  {
   "cell_type": "code",
   "execution_count": 3,
   "id": "e8fb0a5d-6c97-4fe8-abb1-0fb88d2c0775",
   "metadata": {},
   "outputs": [],
   "source": [
    "import numpy as np\n",
    "from fractions import Fraction\n",
    "import matplotlib.pyplot as plt"
   ]
  },
  {
   "cell_type": "code",
   "execution_count": 18,
   "id": "99bad35d-5617-403a-9c46-76f94ffdca1b",
   "metadata": {},
   "outputs": [],
   "source": [
    "a = Fraction(1,5)\n",
    "b = Fraction(3,7)\n",
    "\n",
    "a_list = []\n",
    "a_list.append(a)\n",
    "while a.denominator < 1000000-1:\n",
    "    a = Fraction(a.numerator + b.numerator, a.denominator + b.denominator)\n",
    "    a_list.append(a)\n"
   ]
  },
  {
   "cell_type": "code",
   "execution_count": 19,
   "id": "7ea78771-4c68-4b5c-9b96-a5bf61a4f35f",
   "metadata": {},
   "outputs": [
    {
     "data": {
      "text/plain": [
       "[Fraction(428570, 999997), Fraction(428573, 1000004)]"
      ]
     },
     "execution_count": 19,
     "metadata": {},
     "output_type": "execute_result"
    }
   ],
   "source": [
    "a_list[-2:]"
   ]
  },
  {
   "cell_type": "code",
   "execution_count": null,
   "id": "a888ac86-f77d-49d4-8359-d115da329c44",
   "metadata": {},
   "outputs": [],
   "source": []
  }
 ],
 "metadata": {
  "kernelspec": {
   "display_name": "Python 3 (ipykernel)",
   "language": "python",
   "name": "python3"
  },
  "language_info": {
   "codemirror_mode": {
    "name": "ipython",
    "version": 3
   },
   "file_extension": ".py",
   "mimetype": "text/x-python",
   "name": "python",
   "nbconvert_exporter": "python",
   "pygments_lexer": "ipython3",
   "version": "3.11.5"
  }
 },
 "nbformat": 4,
 "nbformat_minor": 5
}
