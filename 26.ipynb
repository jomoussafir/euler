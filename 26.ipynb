{
 "cells": [
  {
   "cell_type": "code",
   "execution_count": 1,
   "metadata": {},
   "outputs": [],
   "source": [
    "import numpy as np\n",
    "from numba import njit,jit\n",
    "\n",
    "import pandas as pd\n",
    "\n",
    "from sympy import *\n",
    "from sympy.ntheory import factorint\n",
    "from sympy import factorint, Mul, primefactors, sqrt\n",
    "from sympy import divisors"
   ]
  },
  {
   "cell_type": "markdown",
   "metadata": {},
   "source": [
    "For denominator q, the period length is the smallest k such that q divides 10^k–1. \n",
    "\n",
    "E.g. for 41, the period length is 5 because 41 divides 99999.\n"
   ]
  },
  {
   "cell_type": "code",
   "execution_count": 2,
   "metadata": {},
   "outputs": [],
   "source": [
    "z_list=[]\n",
    "for n in range(1, 1000):\n",
    "    f = factorint(n)\n",
    "    n_res = n\n",
    "    if 2 in f.keys():\n",
    "        n_res = int(n_res/pow(2,f[2]))\n",
    "    if 5 in f.keys():\n",
    "        n_res = int(n_res/pow(5,f[5]))\n",
    "\n",
    "    if n>1:\n",
    "        k = 1\n",
    "        f = 10\n",
    "        cont=True\n",
    "        while cont:\n",
    "            if (f-1)%n_res==0:\n",
    "                cont=False\n",
    "            f=f*10\n",
    "            k+=1\n",
    "        z_list.append((n, k-1))\n",
    "        \n",
    "z_df = pd.DataFrame(z_list, columns=[\"n\",\"period\"])"
   ]
  },
  {
   "cell_type": "code",
   "execution_count": 3,
   "metadata": {},
   "outputs": [
    {
     "data": {
      "text/html": [
       "<div>\n",
       "<style scoped>\n",
       "    .dataframe tbody tr th:only-of-type {\n",
       "        vertical-align: middle;\n",
       "    }\n",
       "\n",
       "    .dataframe tbody tr th {\n",
       "        vertical-align: top;\n",
       "    }\n",
       "\n",
       "    .dataframe thead th {\n",
       "        text-align: right;\n",
       "    }\n",
       "</style>\n",
       "<table border=\"1\" class=\"dataframe\">\n",
       "  <thead>\n",
       "    <tr style=\"text-align: right;\">\n",
       "      <th></th>\n",
       "      <th>n</th>\n",
       "      <th>period</th>\n",
       "    </tr>\n",
       "  </thead>\n",
       "  <tbody>\n",
       "    <tr>\n",
       "      <th>981</th>\n",
       "      <td>983</td>\n",
       "      <td>982</td>\n",
       "    </tr>\n",
       "  </tbody>\n",
       "</table>\n",
       "</div>"
      ],
      "text/plain": [
       "       n  period\n",
       "981  983     982"
      ]
     },
     "execution_count": 3,
     "metadata": {},
     "output_type": "execute_result"
    }
   ],
   "source": [
    "z_df[z_df.period==max(z_df.period)]"
   ]
  },
  {
   "cell_type": "code",
   "execution_count": null,
   "metadata": {},
   "outputs": [],
   "source": []
  }
 ],
 "metadata": {
  "kernelspec": {
   "display_name": "Python 3 (ipykernel)",
   "language": "python",
   "name": "python3"
  },
  "language_info": {
   "codemirror_mode": {
    "name": "ipython",
    "version": 3
   },
   "file_extension": ".py",
   "mimetype": "text/x-python",
   "name": "python",
   "nbconvert_exporter": "python",
   "pygments_lexer": "ipython3",
   "version": "3.11.5"
  }
 },
 "nbformat": 4,
 "nbformat_minor": 4
}
