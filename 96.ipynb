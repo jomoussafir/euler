{
 "cells": [
  {
   "cell_type": "code",
   "execution_count": 39,
   "metadata": {},
   "outputs": [],
   "source": [
    "import numpy as np\n",
    "import pandas as pd\n",
    "import re\n",
    "from sudoku import Sudoku"
   ]
  },
  {
   "cell_type": "code",
   "execution_count": 40,
   "metadata": {},
   "outputs": [],
   "source": [
    "fd = open(\"p096_sudoku.txt\", \"r\")\n",
    "line = fd.readlines()\n",
    "fd.close()\n",
    "\n",
    "grid_list = []\n",
    "for l in line:\n",
    "    if not re.search(\"Grid\", l):\n",
    "        grid_list.append([int(s) for s in re.sub(\"\\n\", \"\", l)])\n",
    "grid = np.array(grid_list)\n",
    "nb_sdk = int(grid.shape[0]/grid.shape[1])\n",
    "sdk_rk = grid.shape[1]\n",
    "\n",
    "sdk = {}\n",
    "for n in range(nb_sdk):\n",
    "    sdk[n] = grid[(n*sdk_rk):((n+1)*sdk_rk),:]"
   ]
  },
  {
   "cell_type": "code",
   "execution_count": 51,
   "metadata": {},
   "outputs": [],
   "source": [
    "res = []\n",
    "for i in range(nb_sdk):\n",
    "    puzzle = Sudoku(3, 3, board=sdk[i].tolist())\n",
    "    sol = puzzle.solve()\n",
    "    res.append(int(\"\".join([str(d) for d in sol.board[0][:3]])))"
   ]
  },
  {
   "cell_type": "code",
   "execution_count": 53,
   "metadata": {},
   "outputs": [
    {
     "data": {
      "text/plain": [
       "24702"
      ]
     },
     "execution_count": 53,
     "metadata": {},
     "output_type": "execute_result"
    }
   ],
   "source": [
    "sum(res)"
   ]
  },
  {
   "cell_type": "code",
   "execution_count": null,
   "metadata": {},
   "outputs": [],
   "source": []
  }
 ],
 "metadata": {
  "kernelspec": {
   "display_name": "Python 3",
   "language": "python",
   "name": "python3"
  },
  "language_info": {
   "codemirror_mode": {
    "name": "ipython",
    "version": 3
   },
   "file_extension": ".py",
   "mimetype": "text/x-python",
   "name": "python",
   "nbconvert_exporter": "python",
   "pygments_lexer": "ipython3",
   "version": "3.8.3"
  }
 },
 "nbformat": 4,
 "nbformat_minor": 4
}
