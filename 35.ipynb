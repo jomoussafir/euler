{
 "cells": [
  {
   "cell_type": "code",
   "execution_count": 1,
   "metadata": {},
   "outputs": [],
   "source": [
    "from math import sqrt, ceil\n",
    "import numpy as np\n",
    "import pandas as pd\n",
    "\n",
    "def prime(n):\n",
    "    sieve = [True] * n\n",
    "    for i in np.arange(3,int(n**0.5)+1,2, dtype=int):\n",
    "        if sieve[i]:\n",
    "            sieve[(i*i)::(2*i)]=[False]*len(sieve[(i*i)::(2*i)])\n",
    "\n",
    "    return [2] + [i for i in np.arange(3,n,2) if sieve[i]]\n"
   ]
  },
  {
   "cell_type": "code",
   "execution_count": 14,
   "metadata": {},
   "outputs": [],
   "source": [
    "p_list = prime(10000000)\n",
    "p_set = set(p_list)\n",
    "\n",
    "p_list_test = prime(1000000)"
   ]
  },
  {
   "cell_type": "code",
   "execution_count": 15,
   "metadata": {},
   "outputs": [],
   "source": [
    "res = []\n",
    "for p in p_list_test:\n",
    "    x_list = []\n",
    "    x_d = [int(s) for s in str(p)]\n",
    "    n = len(x_d)\n",
    "    for i in range(len(x_d)):\n",
    "        d_list = x_d[i:]+x_d[:i]\n",
    "        x_list.append(sum([d_list[i]*(10**(n-i-1)) for i in range(n)]))\n",
    "    \n",
    "    x_set = set(x_list)\n",
    "    if x_set.issubset(p_set):\n",
    "        #print(\"=\"*20)\n",
    "        #print(p)\n",
    "        res.append(p)\n",
    "        "
   ]
  },
  {
   "cell_type": "code",
   "execution_count": 17,
   "metadata": {},
   "outputs": [
    {
     "data": {
      "text/plain": [
       "55"
      ]
     },
     "execution_count": 17,
     "metadata": {},
     "output_type": "execute_result"
    }
   ],
   "source": [
    "len(res)"
   ]
  },
  {
   "cell_type": "code",
   "execution_count": null,
   "metadata": {},
   "outputs": [],
   "source": []
  }
 ],
 "metadata": {
  "kernelspec": {
   "display_name": "Python 3",
   "language": "python",
   "name": "python3"
  },
  "language_info": {
   "codemirror_mode": {
    "name": "ipython",
    "version": 3
   },
   "file_extension": ".py",
   "mimetype": "text/x-python",
   "name": "python",
   "nbconvert_exporter": "python",
   "pygments_lexer": "ipython3",
   "version": "3.8.3"
  }
 },
 "nbformat": 4,
 "nbformat_minor": 4
}
