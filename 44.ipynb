{
 "cells": [
  {
   "cell_type": "code",
   "execution_count": 77,
   "metadata": {},
   "outputs": [],
   "source": [
    "import numpy as np\n",
    "import pandas as pd\n",
    "import itertools\n",
    "import pprint\n",
    "import matplotlib.pyplot as plt\n",
    "\n",
    "from numba import jit"
   ]
  },
  {
   "cell_type": "code",
   "execution_count": 106,
   "metadata": {},
   "outputs": [],
   "source": [
    "@jit(nopython=True)\n",
    "def pent(n) -> int:\n",
    "    return int(n*(3*n-1)/2)"
   ]
  },
  {
   "cell_type": "code",
   "execution_count": 111,
   "metadata": {},
   "outputs": [],
   "source": [
    "@jit(nopython=True)\n",
    "def find_pair(n_max):\n",
    "    p_list = [pent(i) for i in np.arange(1,n_max+1)]\n",
    "    p_list_check = [pent(i) for i in np.arange(1,2*n_max+1)]\n",
    "    p_set = set(p_list_check)\n",
    "    nb_p = len(p_list)\n",
    "    l = []\n",
    "    for i in np.arange(nb_p):\n",
    "        for j in np.arange(i, nb_p):\n",
    "            a = p_list[i]\n",
    "            b = p_list[j]\n",
    "            if ((b-a) in p_set) and ((b+a) in p_set):\n",
    "                l.append((a,b, b-a))\n",
    "    return l"
   ]
  },
  {
   "cell_type": "code",
   "execution_count": 118,
   "metadata": {},
   "outputs": [
    {
     "name": "stdout",
     "output_type": "stream",
     "text": [
      "CPU times: user 95.9 ms, sys: 788 µs, total: 96.7 ms\n",
      "Wall time: 96.4 ms\n"
     ]
    },
    {
     "data": {
      "text/plain": [
       "[(1560090, 7042750, 5482660)]"
      ]
     },
     "execution_count": 118,
     "metadata": {},
     "output_type": "execute_result"
    }
   ],
   "source": [
    "%%time\n",
    "find_pair(3000)"
   ]
  },
  {
   "cell_type": "code",
   "execution_count": null,
   "metadata": {},
   "outputs": [],
   "source": []
  }
 ],
 "metadata": {
  "kernelspec": {
   "display_name": "Python 3",
   "language": "python",
   "name": "python3"
  },
  "language_info": {
   "codemirror_mode": {
    "name": "ipython",
    "version": 3
   },
   "file_extension": ".py",
   "mimetype": "text/x-python",
   "name": "python",
   "nbconvert_exporter": "python",
   "pygments_lexer": "ipython3",
   "version": "3.8.3"
  }
 },
 "nbformat": 4,
 "nbformat_minor": 4
}
