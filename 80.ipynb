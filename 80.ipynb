{
 "cells": [
  {
   "cell_type": "code",
   "execution_count": 1,
   "id": "db70eba6-fc44-40bf-bf92-09d3d69ee72d",
   "metadata": {},
   "outputs": [],
   "source": [
    "import numpy as np\n",
    "from fractions import Fraction\n",
    "import pandas as pd\n",
    "\n",
    "from mpmath import *\n",
    "mp.dps = 150\n",
    "\n",
    "import matplotlib.pyplot as plt\n",
    "\n",
    "np.set_printoptions(edgeitems=3, infstr='inf', linewidth=200, \n",
    "                    nanstr='nan', precision=8, suppress=False, \n",
    "                    threshold=1000, formatter=None)"
   ]
  },
  {
   "cell_type": "markdown",
   "id": "0a5aafed-fe35-4d06-a204-c947dd7a894a",
   "metadata": {},
   "source": [
    "## Continued Fraction Expansion of square root"
   ]
  },
  {
   "cell_type": "code",
   "execution_count": 4,
   "id": "df825ef8-c250-4b02-99fc-ec24b26a9656",
   "metadata": {},
   "outputs": [
    {
     "name": "stdout",
     "output_type": "stream",
     "text": [
      "40886\n",
      "CPU times: user 91.6 ms, sys: 4.39 ms, total: 96 ms\n",
      "Wall time: 96.9 ms\n"
     ]
    }
   ],
   "source": [
    "%%time\n",
    "\n",
    "l = []\n",
    "for d in range(101):\n",
    "\n",
    "    if np.sqrt(d) != np.floor(np.sqrt(d)):\n",
    "        \n",
    "        a = []\n",
    "        r = []\n",
    "        u = []\n",
    "        v = []\n",
    "        h = []\n",
    "        k = []\n",
    "    \n",
    "        a += [int(np.floor(np.sqrt(d)))]\n",
    "        u += [a[0]]\n",
    "        v += [1]\n",
    "        r += [(np.sqrt(d) - u[0])/v[0]]\n",
    "    \n",
    "        a += [int(np.floor(1/r[0]))]\n",
    "        v += [int((d - u[0]*u[0])/v[0])]\n",
    "        u += [a[1]*v[1] - u[0]]\n",
    "        r += [(np.sqrt(d) - u[1])/v[1]]\n",
    "    \n",
    "        h+=[a[0]]\n",
    "        k+=[1]\n",
    "        h+=[a[1]*h[0] + 1]\n",
    "        k+=[a[1]*k[0]]\n",
    "    \n",
    "        i=2\n",
    "        cont=True\n",
    "        while cont:\n",
    "            a += [int(np.floor(1/r[i-1]))]\n",
    "            v += [int((d - u[i-1]*u[i-1])/v[i-1])]\n",
    "            u += [a[i]*v[i] - u[i-1]]\n",
    "            r += [(np.sqrt(d) - u[i])/v[i]]\n",
    "            h += [a[i]*h[i-1] + h[i-2]]\n",
    "            k += [a[i]*k[i-1] + k[i-2]]       \n",
    "    \n",
    "            if (10**110) * abs(h[i]*k[i-1] - h[i-1]*k[i]) < k[i]*k[i-1]:\n",
    "                cont = False\n",
    "                z = fraction(h[i],k[i])\n",
    "                zz = str(z)[:110].replace('.','')[:100]\n",
    "                #print(d, sum([int(c) for c in zz]))\n",
    "                l.append(sum([int(c) for c in zz]))\n",
    "                \n",
    "            i+=1\n",
    "\n",
    "print(sum(l))"
   ]
  },
  {
   "cell_type": "code",
   "execution_count": null,
   "id": "50fbf91f-6b09-4fdf-aea7-a26182e4d63d",
   "metadata": {},
   "outputs": [],
   "source": []
  }
 ],
 "metadata": {
  "kernelspec": {
   "display_name": "Python 3 (ipykernel)",
   "language": "python",
   "name": "python3"
  },
  "language_info": {
   "codemirror_mode": {
    "name": "ipython",
    "version": 3
   },
   "file_extension": ".py",
   "mimetype": "text/x-python",
   "name": "python",
   "nbconvert_exporter": "python",
   "pygments_lexer": "ipython3",
   "version": "3.11.5"
  }
 },
 "nbformat": 4,
 "nbformat_minor": 5
}
