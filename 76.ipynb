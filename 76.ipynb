{
 "cells": [
  {
   "cell_type": "code",
   "execution_count": 66,
   "metadata": {},
   "outputs": [],
   "source": [
    "import matplotlib.pyplot as plt\n",
    "import numpy as np\n",
    "\n",
    "from numba import jit"
   ]
  },
  {
   "cell_type": "markdown",
   "metadata": {},
   "source": [
    "## Dyn Prog"
   ]
  },
  {
   "cell_type": "code",
   "execution_count": 68,
   "metadata": {},
   "outputs": [
    {
     "data": {
      "text/plain": [
       "[(1, 1), (2, 2), (3, 3), (4, 5), (5, 7), (6, 11), (7, 15), (8, 22), (9, 30)]"
      ]
     },
     "execution_count": 68,
     "metadata": {},
     "output_type": "execute_result"
    }
   ],
   "source": [
    "def accel_asc(n):\n",
    "    return set(accel_asc_yield(n))\n",
    "\n",
    "def accel_asc_yield(n):\n",
    "    a = [0 for i in range(n + 1)]\n",
    "    k = 1\n",
    "    y = n - 1\n",
    "    while k != 0:\n",
    "        x = a[k - 1] + 1\n",
    "        k -= 1\n",
    "        while 2 * x <= y:\n",
    "            a[k] = x\n",
    "            y -= x\n",
    "            k += 1\n",
    "        l = k + 1\n",
    "        while x <= y:\n",
    "            a[k] = x\n",
    "            a[l] = y\n",
    "            yield tuple(a[:k + 2])\n",
    "            x += 1\n",
    "            y -= 1\n",
    "        a[k] = x + y\n",
    "        y = x + y - 1\n",
    "        yield tuple(a[:k + 1])\n",
    "\n",
    "[(i,len(accel_asc(i))) for i in np.arange(1,10)]"
   ]
  },
  {
   "cell_type": "code",
   "execution_count": 74,
   "metadata": {},
   "outputs": [
    {
     "name": "stdout",
     "output_type": "stream",
     "text": [
      "CPU times: user 18.5 s, sys: 3.16 s, total: 21.6 s\n",
      "Wall time: 21.8 s\n"
     ]
    },
    {
     "data": {
      "text/plain": [
       "15796476"
      ]
     },
     "execution_count": 74,
     "metadata": {},
     "output_type": "execute_result"
    }
   ],
   "source": [
    "%%time\n",
    "len(accel_asc(80))"
   ]
  },
  {
   "cell_type": "markdown",
   "metadata": {},
   "source": [
    "## Euler Pentagonal Theorem"
   ]
  },
  {
   "cell_type": "markdown",
   "metadata": {},
   "source": [
    "$$\n",
    "p(n) = p(n-1) + p(n-2) - p(n-5) - p(n-7) + p(n-12) + p(n-15) - \\cdots\n",
    "$$\n",
    "$$\n",
    "p(n) = p(n-g_1) + p(n-g_2) - p(n-g_5) - p(n-g_7) + p(n-g_{12}) + p(n-g_{15}) - \\cdots\n",
    "$$"
   ]
  },
  {
   "cell_type": "code",
   "execution_count": 154,
   "metadata": {},
   "outputs": [
    {
     "data": {
      "image/png": "[encoded data removed]",
      "text/plain": [
       "<Figure size 432x288 with 1 Axes>"
      ]
     },
     "metadata": {
      "needs_background": "light"
     },
     "output_type": "display_data"
    }
   ],
   "source": [
    "def gen_pent_seq(k):\n",
    "    idx = [0]\n",
    "    for i in np.arange(1, k):\n",
    "        idx += [i,-i]\n",
    "    return [(3*i*i - i)/2 for i in idx[1:]]\n",
    "\n",
    "def partition(n_max):\n",
    "    gid = {}\n",
    "    for n in range(2,n_max+1):\n",
    "        k=2\n",
    "        while max(gen_pent_seq(k))<n:\n",
    "            k+=1\n",
    "        gid[n] = [int(i) for i in gen_pent_seq(k) if i<=n]\n",
    "\n",
    "    p = {}\n",
    "    p[0] = 1\n",
    "    p[1] = 1\n",
    "\n",
    "    for n in np.arange(2,n_max+1):\n",
    "        p[n] = 0\n",
    "        for i in np.arange(len(gid[n])):\n",
    "            p[n] += int((-1)**np.floor(i/2)*p[n-gid[n][i]])\n",
    "    return(p)\n",
    "\n",
    "\n",
    "p = partition(200)\n",
    "pk = list(p.keys())\n",
    "pv = [float(x) for x in list(p.values())]\n",
    "plt.plot(pk, np.log(pv))\n",
    "plt.show()\n",
    "#p_check = dict([(i,len(accel_asc(i))) for i in np.arange(0,n_max+1)])\n",
    "#print(p_check)"
   ]
  },
  {
   "cell_type": "code",
   "execution_count": 153,
   "metadata": {},
   "outputs": [
    {
     "data": {
      "text/plain": [
       "{0: 1,\n",
       " 1: 1,\n",
       " 2: 2,\n",
       " 3: 3,\n",
       " 4: 5,\n",
       " 5: 7,\n",
       " 6: 11,\n",
       " 7: 15,\n",
       " 8: 22,\n",
       " 9: 30,\n",
       " 10: 42,\n",
       " 11: 56,\n",
       " 12: 77,\n",
       " 13: 101,\n",
       " 14: 135,\n",
       " 15: 176,\n",
       " 16: 231,\n",
       " 17: 297,\n",
       " 18: 385,\n",
       " 19: 490,\n",
       " 20: 627}"
      ]
     },
     "execution_count": 153,
     "metadata": {},
     "output_type": "execute_result"
    }
   ],
   "source": [
    "partition(20)"
   ]
  },
  {
   "cell_type": "code",
   "execution_count": 139,
   "metadata": {},
   "outputs": [
    {
     "data": {
      "text/plain": [
       "190569291"
      ]
     },
     "execution_count": 139,
     "metadata": {},
     "output_type": "execute_result"
    }
   ],
   "source": [
    "190569292 -1"
   ]
  },
  {
   "cell_type": "code",
   "execution_count": null,
   "metadata": {},
   "outputs": [],
   "source": []
  }
 ],
 "metadata": {
  "kernelspec": {
   "display_name": "Python 3",
   "language": "python",
   "name": "python3"
  },
  "language_info": {
   "codemirror_mode": {
    "name": "ipython",
    "version": 3
   },
   "file_extension": ".py",
   "mimetype": "text/x-python",
   "name": "python",
   "nbconvert_exporter": "python",
   "pygments_lexer": "ipython3",
   "version": "3.8.3"
  }
 },
 "nbformat": 4,
 "nbformat_minor": 4
}
