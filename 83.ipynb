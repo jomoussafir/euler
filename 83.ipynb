{
 "cells": [
  {
   "cell_type": "code",
   "execution_count": 1,
   "id": "d02baacf-5503-4813-be97-153627d19af6",
   "metadata": {},
   "outputs": [],
   "source": [
    "import numpy as np"
   ]
  },
  {
   "cell_type": "code",
   "execution_count": 2,
   "id": "713bf952-d1c5-455c-922e-e61b7b1d447d",
   "metadata": {},
   "outputs": [],
   "source": [
    "A = np.array([[131, 673, 234, 103, 18], \n",
    "              [201, 96, 342, 965, 150],\n",
    "              [630, 803, 746, 422, 111],\n",
    "              [537, 699, 497, 121, 956],\n",
    "              [805, 732, 524, 37, 331]])"
   ]
  },
  {
   "cell_type": "code",
   "execution_count": 26,
   "id": "c9e5d1c8-a57a-4150-b66c-e517455c6dca",
   "metadata": {},
   "outputs": [
    {
     "data": {
      "text/plain": [
       "[[(4, 4)],\n",
       " [(3, 4), (4, 3)],\n",
       " [(2, 4), (3, 3), (4, 2)],\n",
       " [(1, 4), (2, 3), (3, 2), (4, 1)],\n",
       " [(0, 4), (1, 3), (2, 2), (3, 1), (4, 0)],\n",
       " [(0, 3), (1, 2), (2, 1), (3, 0)],\n",
       " [(0, 2), (1, 1), (2, 0)],\n",
       " [(0, 1), (1, 0)],\n",
       " [(0, 0)]]"
      ]
     },
     "execution_count": 26,
     "metadata": {},
     "output_type": "execute_result"
    }
   ],
   "source": [
    "n = 5\n",
    "\n",
    "diag_list = []\n",
    "for k in np.arange((n-1)*2, -1, -1):\n",
    "    l_tmp = []\n",
    "    for i in np.arange(n):\n",
    "        j = k - i\n",
    "        if j <= n-1 and 0<=j:\n",
    "            l_tmp.append((i,j))\n",
    "    diag_list.append(l_tmp)\n",
    "diag_list"
   ]
  },
  {
   "cell_type": "code",
   "execution_count": 20,
   "id": "8df10a42-7bac-4bfd-a2bd-ff65985a9998",
   "metadata": {},
   "outputs": [
    {
     "data": {
      "text/plain": [
       "[111, 121, 524]"
      ]
     },
     "execution_count": 20,
     "metadata": {},
     "output_type": "execute_result"
    }
   ],
   "source": [
    "[A.item(i) for i in diag_list[2]]"
   ]
  },
  {
   "cell_type": "code",
   "execution_count": 17,
   "id": "e359da3a-af77-47f3-aaa6-8272e9505300",
   "metadata": {},
   "outputs": [
    {
     "data": {
      "text/plain": [
       "(4, 4)"
      ]
     },
     "execution_count": 17,
     "metadata": {},
     "output_type": "execute_result"
    }
   ],
   "source": [
    "diag_list[0][0]"
   ]
  },
  {
   "cell_type": "code",
   "execution_count": 24,
   "id": "df131e96-82f8-4c6c-9a54-f43603cf6a8e",
   "metadata": {},
   "outputs": [],
   "source": [
    "B = np.zeros_like(A)"
   ]
  },
  {
   "cell_type": "code",
   "execution_count": 27,
   "id": "625afc53-006b-4e51-a094-747abb7ee842",
   "metadata": {},
   "outputs": [
    {
     "data": {
      "text/plain": [
       "[(4, 4)]"
      ]
     },
     "execution_count": 27,
     "metadata": {},
     "output_type": "execute_result"
    }
   ],
   "source": [
    "diag_list[0]"
   ]
  },
  {
   "cell_type": "code",
   "execution_count": 31,
   "id": "2414e8e4-64f9-4439-b4e1-4d6d503bc9b8",
   "metadata": {},
   "outputs": [
    {
     "name": "stdout",
     "output_type": "stream",
     "text": [
      "(4, 4)\n"
     ]
    },
    {
     "data": {
      "text/plain": [
       "array([[0, 0, 0, 0, 0],\n",
       "       [0, 0, 0, 0, 0],\n",
       "       [0, 0, 0, 0, 0],\n",
       "       [0, 0, 0, 0, 0],\n",
       "       [0, 0, 0, 0, 0]])"
      ]
     },
     "execution_count": 31,
     "metadata": {},
     "output_type": "execute_result"
    }
   ],
   "source": [
    "for i in diag_list[0]:\n",
    "    print(i)\n",
    "    #B.item(i)=A.item(i)\n",
    "B"
   ]
  },
  {
   "cell_type": "code",
   "execution_count": 29,
   "id": "9fda6527-4d69-44d6-ab74-305c2d9e3bff",
   "metadata": {},
   "outputs": [
    {
     "data": {
      "text/plain": [
       "4"
      ]
     },
     "execution_count": 29,
     "metadata": {},
     "output_type": "execute_result"
    }
   ],
   "source": [
    "i"
   ]
  },
  {
   "cell_type": "code",
   "execution_count": 33,
   "id": "30920da6-5dd2-45b7-ad12-a21d0ef69369",
   "metadata": {},
   "outputs": [
    {
     "data": {
      "text/plain": [
       "331"
      ]
     },
     "execution_count": 33,
     "metadata": {},
     "output_type": "execute_result"
    }
   ],
   "source": [
    "A[diag_list[0][0][0], diag_list[0][0][1]]"
   ]
  },
  {
   "cell_type": "code",
   "execution_count": 32,
   "id": "26e7177c-02c0-43df-adaa-a8887b09a57d",
   "metadata": {},
   "outputs": [
    {
     "data": {
      "text/plain": [
       "4"
      ]
     },
     "execution_count": 32,
     "metadata": {},
     "output_type": "execute_result"
    }
   ],
   "source": [
    "diag_list[0][0][0]"
   ]
  },
  {
   "cell_type": "code",
   "execution_count": null,
   "id": "c1e85f51-a155-4a11-b226-7810bef206fb",
   "metadata": {},
   "outputs": [],
   "source": []
  }
 ],
 "metadata": {
  "kernelspec": {
   "display_name": "Python 3 (ipykernel)",
   "language": "python",
   "name": "python3"
  },
  "language_info": {
   "codemirror_mode": {
    "name": "ipython",
    "version": 3
   },
   "file_extension": ".py",
   "mimetype": "text/x-python",
   "name": "python",
   "nbconvert_exporter": "python",
   "pygments_lexer": "ipython3",
   "version": "3.11.5"
  }
 },
 "nbformat": 4,
 "nbformat_minor": 5
}
