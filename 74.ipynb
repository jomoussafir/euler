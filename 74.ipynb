{
 "cells": [
  {
   "cell_type": "code",
   "execution_count": 10,
   "id": "96215561-b0cf-4084-bb4f-ad876de22f0e",
   "metadata": {},
   "outputs": [],
   "source": [
    "import sys\n",
    "import numpy as np\n",
    "import pandas as pd\n",
    "np.set_printoptions(threshold=sys.maxsize)\n",
    "np.set_printoptions(linewidth=100)"
   ]
  },
  {
   "cell_type": "code",
   "execution_count": 17,
   "id": "cd560dd4-ff33-4f80-a285-90983d1f2bcb",
   "metadata": {},
   "outputs": [],
   "source": [
    "def fact(n):\n",
    "    res=1\n",
    "    for i in np.arange(2,n+1):\n",
    "        res*=i\n",
    "    return res\n",
    "\n",
    "def sum_fact_digit(x):\n",
    "    return sum([fact_d[int(i)] for i in list(str(x))])\n",
    "\n",
    "fact_d = {}\n",
    "for i in np.arange(10):\n",
    "    fact_d[i] = fact(i)"
   ]
  },
  {
   "cell_type": "code",
   "execution_count": 16,
   "id": "7388b5e5-52e9-48c0-93e8-6490eb4ba186",
   "metadata": {},
   "outputs": [
    {
     "data": {
      "text/plain": [
       "363600"
      ]
     },
     "execution_count": 16,
     "metadata": {},
     "output_type": "execute_result"
    }
   ],
   "source": [
    "sum_fact_digit(69)"
   ]
  },
  {
   "cell_type": "code",
   "execution_count": 46,
   "id": "15b8ea6d-4305-4c6f-a5ca-83368a5e83f2",
   "metadata": {},
   "outputs": [
    {
     "name": "stdout",
     "output_type": "stream",
     "text": [
      "CPU times: user 2min 16s, sys: 999 ms, total: 2min 17s\n",
      "Wall time: 2min 21s\n"
     ]
    }
   ],
   "source": [
    "%%time\n",
    "res=[]\n",
    "for i in np.arange(1,1000000):\n",
    "    chain = [i]\n",
    "    chain_set = set()\n",
    "\n",
    "    while True:\n",
    "        new_elt = sum_fact_digit(chain[-1])\n",
    "        if not new_elt in chain_set:\n",
    "            chain.append(new_elt)\n",
    "            chain_set.add(new_elt)\n",
    "        else:\n",
    "            break\n",
    "    if(len(chain) == 60):\n",
    "        res.append(i)\n"
   ]
  },
  {
   "cell_type": "code",
   "execution_count": 47,
   "id": "b93804e3-6fdd-45bc-8792-c634fbf6e5cd",
   "metadata": {},
   "outputs": [
    {
     "data": {
      "text/plain": [
       "402"
      ]
     },
     "execution_count": 47,
     "metadata": {},
     "output_type": "execute_result"
    }
   ],
   "source": [
    "len(res)"
   ]
  },
  {
   "cell_type": "code",
   "execution_count": null,
   "id": "63f2ba83-9008-4d6e-9e83-8e628efa4dbc",
   "metadata": {},
   "outputs": [],
   "source": []
  }
 ],
 "metadata": {
  "kernelspec": {
   "display_name": "Python 3",
   "language": "python",
   "name": "python3"
  },
  "language_info": {
   "codemirror_mode": {
    "name": "ipython",
    "version": 3
   },
   "file_extension": ".py",
   "mimetype": "text/x-python",
   "name": "python",
   "nbconvert_exporter": "python",
   "pygments_lexer": "ipython3",
   "version": "3.8.3"
  }
 },
 "nbformat": 4,
 "nbformat_minor": 5
}
