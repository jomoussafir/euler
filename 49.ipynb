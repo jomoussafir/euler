{
 "cells": [
  {
   "cell_type": "code",
   "execution_count": 48,
   "id": "410f759c-d84f-4f14-ad7e-c9954aa4e44a",
   "metadata": {},
   "outputs": [],
   "source": [
    "from itertools import permutations \n",
    "import sympy, string\n",
    "import numpy as np"
   ]
  },
  {
   "cell_type": "code",
   "execution_count": 104,
   "id": "7a1a0f3c-204c-45b0-bca6-0d578111f7cf",
   "metadata": {},
   "outputs": [
    {
     "name": "stdout",
     "output_type": "stream",
     "text": [
      "[1487, 1847, 4817, 4871, 7481, 7841, 8147, 8741]\n",
      "[1487, 1847, 4817, 4871, 7481, 7841, 8147, 8741]\n",
      "[2699, 2969, 6299, 9629]\n",
      "[2699, 2969, 6299, 9629]\n",
      "[1487, 1847, 4817, 4871, 7481, 7841, 8147, 8741]\n",
      "[1487, 1847, 4817, 4871, 7481, 7841, 8147, 8741]\n",
      "[2699, 2969, 6299, 9629]\n",
      "[1487, 1847, 4817, 4871, 7481, 7841, 8147, 8741]\n",
      "[1487, 1847, 4817, 4871, 7481, 7841, 8147, 8741]\n",
      "[1487, 1847, 4817, 4871, 7481, 7841, 8147, 8741]\n",
      "[1487, 1847, 4817, 4871, 7481, 7841, 8147, 8741]\n",
      "[2699, 2969, 6299, 9629]\n"
     ]
    }
   ],
   "source": [
    "l = list(sympy.primerange(1000,10000))\n",
    "for i in range(len(l)):\n",
    "    perm_digits = permutations(list(str(l[i])))\n",
    "    l_tmp = []\n",
    "    for p in perm_digits:\n",
    "        x = int(\"\".join(p))\n",
    "        if len(list(str((int(\"\".join(p))))))==4 and sympy.isprime(x):\n",
    "            l_tmp.append(x)\n",
    "        l_tmp = list(set(l_tmp))\n",
    "        \n",
    "    if (len(l_tmp)>=3):\n",
    "        l_tmp.sort()\n",
    "        for j in range(len(l_tmp)-1):\n",
    "            for k in range(j+1, len(l_tmp)):\n",
    "                z = l_tmp[j] + 2*(l_tmp[k] - l_tmp[j])\n",
    "                if z in l_tmp:\n",
    "                    print(l_tmp)\n"
   ]
  },
  {
   "cell_type": "code",
   "execution_count": 105,
   "id": "ebb95bfd-b9d3-4ad2-9cdc-3d8ce337e3ff",
   "metadata": {},
   "outputs": [],
   "source": [
    "l = [2699, 2969, 6299, 9629]"
   ]
  },
  {
   "cell_type": "code",
   "execution_count": 106,
   "id": "08801742-caa1-4d5f-a31d-8e62443043a3",
   "metadata": {},
   "outputs": [
    {
     "data": {
      "text/plain": [
       "3330"
      ]
     },
     "execution_count": 106,
     "metadata": {},
     "output_type": "execute_result"
    }
   ],
   "source": [
    "6299 - 2969"
   ]
  },
  {
   "cell_type": "code",
   "execution_count": 107,
   "id": "e913c956-821b-4ac3-91bd-225a8e476c31",
   "metadata": {},
   "outputs": [
    {
     "data": {
      "text/plain": [
       "3330"
      ]
     },
     "execution_count": 107,
     "metadata": {},
     "output_type": "execute_result"
    }
   ],
   "source": [
    "9629 - 6299"
   ]
  },
  {
   "cell_type": "code",
   "execution_count": 108,
   "id": "9f317776-181d-4d81-8c64-fa568d1fe83c",
   "metadata": {},
   "outputs": [
    {
     "data": {
      "text/plain": [
       "296962999629"
      ]
     },
     "execution_count": 108,
     "metadata": {},
     "output_type": "execute_result"
    }
   ],
   "source": [
    "296962999629"
   ]
  },
  {
   "cell_type": "code",
   "execution_count": null,
   "id": "a5bd68ce-f46a-42c1-b730-213145f81dec",
   "metadata": {},
   "outputs": [],
   "source": []
  }
 ],
 "metadata": {
  "kernelspec": {
   "display_name": "Python 3",
   "language": "python",
   "name": "python3"
  },
  "language_info": {
   "codemirror_mode": {
    "name": "ipython",
    "version": 3
   },
   "file_extension": ".py",
   "mimetype": "text/x-python",
   "name": "python",
   "nbconvert_exporter": "python",
   "pygments_lexer": "ipython3",
   "version": "3.8.3"
  }
 },
 "nbformat": 4,
 "nbformat_minor": 5
}
