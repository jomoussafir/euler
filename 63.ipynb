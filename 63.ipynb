{
 "cells": [
  {
   "cell_type": "code",
   "execution_count": 12,
   "id": "e3282b1f-a825-42a8-988e-07fcfadb07d2",
   "metadata": {},
   "outputs": [],
   "source": [
    "l = []\n",
    "for a in range(1,100):\n",
    "    for b in range(1,100):\n",
    "        if len(str(a**b)) == b:\n",
    "            l.append(a**b)        "
   ]
  },
  {
   "cell_type": "code",
   "execution_count": 17,
   "id": "f2386599-8db5-4a41-876d-20910af134ec",
   "metadata": {},
   "outputs": [
    {
     "data": {
      "text/plain": [
       "49"
      ]
     },
     "execution_count": 17,
     "metadata": {},
     "output_type": "execute_result"
    }
   ],
   "source": [
    "l = list(set(l))\n",
    "l.sort()\n",
    "len(l)"
   ]
  },
  {
   "cell_type": "code",
   "execution_count": null,
   "id": "ec6e005e-5323-4ac0-9ee4-c8fff0002f85",
   "metadata": {},
   "outputs": [],
   "source": []
  }
 ],
 "metadata": {
  "kernelspec": {
   "display_name": "Python 3",
   "language": "python",
   "name": "python3"
  },
  "language_info": {
   "codemirror_mode": {
    "name": "ipython",
    "version": 3
   },
   "file_extension": ".py",
   "mimetype": "text/x-python",
   "name": "python",
   "nbconvert_exporter": "python",
   "pygments_lexer": "ipython3",
   "version": "3.8.3"
  }
 },
 "nbformat": 4,
 "nbformat_minor": 5
}
