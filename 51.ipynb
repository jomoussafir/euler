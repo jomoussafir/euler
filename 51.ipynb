{
 "cells": [
  {
   "cell_type": "code",
   "execution_count": 86,
   "id": "244f8355-1b69-4b3b-834f-e04dba795d40",
   "metadata": {},
   "outputs": [],
   "source": [
    "import numpy as np\n",
    "\n",
    "from sympy import *\n",
    "from sympy.ntheory import factorint\n",
    "from sympy import factorint, Mul, primefactors, sqrt\n",
    "from sympy import divisors\n",
    "from itertools import combinations, permutations, combinations_with_replacement\n"
   ]
  },
  {
   "cell_type": "code",
   "execution_count": 47,
   "id": "c42c0b78-74f5-47e2-86ec-f53d1b86e0e8",
   "metadata": {},
   "outputs": [],
   "source": [
    "def i2l(n):\n",
    "    return [int(k) for k in list(str(n))]\n",
    "def l2i(l):\n",
    "    return int(\"\".join([str(i) for i in l]))\n",
    "def sub(l, index, value):\n",
    "    res = l.copy()\n",
    "    for i in index:\n",
    "        res[i] = value\n",
    "    return res"
   ]
  },
  {
   "cell_type": "code",
   "execution_count": 110,
   "id": "885a3e36-68d5-45a5-829e-d332df814e17",
   "metadata": {},
   "outputs": [
    {
     "data": {
      "text/plain": [
       "56003"
      ]
     },
     "execution_count": 110,
     "metadata": {},
     "output_type": "execute_result"
    }
   ],
   "source": [
    "prime(5684)"
   ]
  },
  {
   "cell_type": "code",
   "execution_count": 119,
   "id": "2c1e3145-0023-4c39-97ce-b6312dfbbd9d",
   "metadata": {},
   "outputs": [
    {
     "name": "stdout",
     "output_type": "stream",
     "text": [
      "[1, 0, 1]\n"
     ]
    },
    {
     "data": {
      "text/plain": [
       "[3, 11003, 16103, 22003, 26203, 54403, 56503, 77003, 88003]"
      ]
     },
     "execution_count": 119,
     "metadata": {},
     "output_type": "execute_result"
    }
   ],
   "source": [
    "pl = i2l(101)\n",
    "res=[]\n",
    "for i in np.arange(10):\n",
    "    for s in combinations(list(np.arange(len(pl))),2):\n",
    "        z = sub(l,s, i)\n",
    "        if isprime(l2i(z)):\n",
    "            res.append(l2i(z))\n",
    "print(pl)\n",
    "res\n"
   ]
  },
  {
   "cell_type": "code",
   "execution_count": 121,
   "id": "4c62bdc9-4041-40bd-9631-79f8ee9dafad",
   "metadata": {},
   "outputs": [
    {
     "name": "stdout",
     "output_type": "stream",
     "text": [
      "(0,)\n",
      "(1,)\n",
      "(2,)\n",
      "(3,)\n",
      "(4,)\n",
      "(5,)\n",
      "(6,)\n",
      "(7,)\n",
      "(8,)\n",
      "(9,)\n"
     ]
    }
   ],
   "source": [
    "for s in combinations(list(np.arange(10)),1):\n",
    "    print(s)"
   ]
  },
  {
   "cell_type": "code",
   "execution_count": 140,
   "id": "6967be17-c7de-45f5-b258-a58527c6a1a1",
   "metadata": {},
   "outputs": [
    {
     "data": {
      "text/plain": [
       "[True, True, True, True, True, True, True, True]"
      ]
     },
     "execution_count": 140,
     "metadata": {},
     "output_type": "execute_result"
    }
   ],
   "source": [
    "[isprime(p) for p in [113, 199, 223, 313, 443, 773, 883, 919]]\n"
   ]
  },
  {
   "cell_type": "code",
   "execution_count": 150,
   "id": "d574c65a-b478-489f-9b97-f0a1290e5540",
   "metadata": {},
   "outputs": [
    {
     "name": "stdout",
     "output_type": "stream",
     "text": [
      "2063 1\n",
      "====================\n",
      "2063\n",
      "[1013, 1061, 1163, 2011, 2063, 2113, 2161]\n",
      "\n",
      "6053 1\n",
      "====================\n",
      "6053\n",
      "[1013, 1051, 1153, 6011, 6053, 6113, 6151]\n",
      "\n",
      "6203 1\n",
      "====================\n",
      "6203\n",
      "[1103, 1201, 1213, 6101, 6113, 6203, 6211]\n",
      "\n"
     ]
    }
   ],
   "source": [
    "#for j in np.arange(2,5684):\n",
    "for j in np.arange(2,1000):    \n",
    "    p = prime(j)\n",
    "\n",
    "    pl = i2l(prime(j))\n",
    "\n",
    "    for i in np.arange(10):\n",
    "        res=[p]\n",
    "\n",
    "        for s in combinations(list(np.arange(len(pl))),2):\n",
    "            zl = sub(pl, s, i)\n",
    "            z = l2i(zl)\n",
    "            if isprime(z) and len(i2l(z))==len(pl):\n",
    "                res.append(z)\n",
    "        \n",
    "        res = list(set(res))\n",
    "        res.sort()\n",
    "        if(len(res)>=7):\n",
    "            print(\"=\"*20)\n",
    "            print(p,i)\n",
    "            print(res)\n",
    "            #break\n",
    "            print(\"\")"
   ]
  },
  {
   "cell_type": "code",
   "execution_count": null,
   "id": "ea9b3846-0c6d-44e2-8165-2c1c3f421f73",
   "metadata": {},
   "outputs": [],
   "source": []
  }
 ],
 "metadata": {
  "kernelspec": {
   "display_name": "Python 3",
   "language": "python",
   "name": "python3"
  },
  "language_info": {
   "codemirror_mode": {
    "name": "ipython",
    "version": 3
   },
   "file_extension": ".py",
   "mimetype": "text/x-python",
   "name": "python",
   "nbconvert_exporter": "python",
   "pygments_lexer": "ipython3",
   "version": "3.8.3"
  }
 },
 "nbformat": 4,
 "nbformat_minor": 5
}
