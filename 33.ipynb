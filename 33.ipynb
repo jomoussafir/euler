{
 "cells": [
  {
   "cell_type": "code",
   "execution_count": 1,
   "id": "1c70f57b-ffba-4b0b-a6ed-5a13431fda73",
   "metadata": {},
   "outputs": [
    {
     "data": {
      "text/plain": [
       "45228"
      ]
     },
     "execution_count": 1,
     "metadata": {},
     "output_type": "execute_result"
    }
   ],
   "source": [
    "def pandigital_products():\n",
    "    products = set()\n",
    "    total = 0\n",
    "    for i in range(1, 10000):\n",
    "        for j in range(1, 10000):\n",
    "            if len(str(i) + str(j) + str(i*j)) > 9:\n",
    "                break\n",
    "            pandigital = str(i) + str(j) + str(i*j)\n",
    "            if ''.join(sorted(pandigital)) == \"123456789\":\n",
    "                if i*j not in products:\n",
    "                    products.add(i*j)\n",
    "                    total += i*j\n",
    "    return total\n",
    "\n",
    "pandigital_products()"
   ]
  },
  {
   "cell_type": "code",
   "execution_count": 2,
   "id": "ea11bbd4-ea59-4afa-9c64-6d52bf043009",
   "metadata": {},
   "outputs": [
    {
     "data": {
      "text/plain": [
       "17"
      ]
     },
     "execution_count": 2,
     "metadata": {},
     "output_type": "execute_result"
    }
   ],
   "source": [
    "def sum_of_primes(n):\n",
    "    primes = [2]\n",
    "    for i in range(3, n + 1):\n",
    "        is_prime = True\n",
    "        for j in primes:\n",
    "            if i % j == 0:\n",
    "                is_prime = False\n",
    "                break\n",
    "        if is_prime:\n",
    "            primes.append(i)\n",
    "    primes = set(primes)\n",
    "    non_repeated_primes = [11, 17, 41, 73]\n",
    "    for prime in non_repeated_primes:\n",
    "        primes.discard(prime)\n",
    "    return sum(primes)\n",
    "\n",
    "sum_of_primes(10)"
   ]
  },
  {
   "cell_type": "code",
   "execution_count": null,
   "id": "7e7ed1cd-3fd0-4da2-90f7-6823f734ee60",
   "metadata": {},
   "outputs": [],
   "source": [
    "from fractions import Fraction\n",
    "\n",
    "z = Fraction(1,2)\n",
    "z + z"
   ]
  },
  {
   "cell_type": "code",
   "execution_count": 49,
   "id": "52851d74-6b08-41a0-a573-c6721c0ac4ea",
   "metadata": {},
   "outputs": [
    {
     "name": "stdout",
     "output_type": "stream",
     "text": [
      "11/11 = 1/1\n",
      "12/12 = 2/2\n",
      "13/13 = 3/3\n",
      "14/14 = 4/4\n",
      "15/15 = 5/5\n",
      "16/16 = 6/6\n",
      "17/17 = 7/7\n",
      "18/18 = 8/8\n",
      "19/19 = 9/9\n",
      "21/21 = 1/1\n",
      "22/22 = 2/2\n",
      "23/23 = 3/3\n",
      "24/24 = 4/4\n",
      "25/25 = 5/5\n",
      "26/26 = 6/6\n",
      "27/27 = 7/7\n",
      "28/28 = 8/8\n",
      "29/29 = 9/9\n",
      "31/31 = 1/1\n",
      "32/32 = 2/2\n",
      "33/33 = 3/3\n",
      "34/34 = 4/4\n",
      "35/35 = 5/5\n",
      "36/36 = 6/6\n",
      "37/37 = 7/7\n",
      "38/38 = 8/8\n",
      "39/39 = 9/9\n",
      "41/41 = 1/1\n",
      "42/42 = 2/2\n",
      "43/43 = 3/3\n",
      "44/44 = 4/4\n",
      "45/45 = 5/5\n",
      "46/46 = 6/6\n",
      "47/47 = 7/7\n",
      "48/48 = 8/8\n",
      "49/49 = 9/9\n",
      "51/51 = 1/1\n",
      "52/52 = 2/2\n",
      "53/53 = 3/3\n",
      "54/54 = 4/4\n",
      "55/55 = 5/5\n",
      "56/56 = 6/6\n",
      "57/57 = 7/7\n",
      "58/58 = 8/8\n",
      "59/59 = 9/9\n",
      "61/61 = 1/1\n",
      "62/62 = 2/2\n",
      "63/63 = 3/3\n",
      "64/64 = 4/4\n",
      "65/65 = 5/5\n",
      "66/66 = 6/6\n",
      "67/67 = 7/7\n",
      "68/68 = 8/8\n",
      "69/69 = 9/9\n",
      "71/71 = 1/1\n",
      "72/72 = 2/2\n",
      "73/73 = 3/3\n",
      "74/74 = 4/4\n",
      "75/75 = 5/5\n",
      "76/76 = 6/6\n",
      "77/77 = 7/7\n",
      "78/78 = 8/8\n",
      "79/79 = 9/9\n",
      "81/81 = 1/1\n",
      "82/82 = 2/2\n",
      "83/83 = 3/3\n",
      "84/84 = 4/4\n",
      "85/85 = 5/5\n",
      "86/86 = 6/6\n",
      "87/87 = 7/7\n",
      "88/88 = 8/8\n",
      "89/89 = 9/9\n",
      "91/91 = 1/1\n",
      "92/92 = 2/2\n",
      "93/93 = 3/3\n",
      "94/94 = 4/4\n",
      "95/95 = 5/5\n",
      "96/96 = 6/6\n",
      "97/97 = 7/7\n",
      "98/98 = 8/8\n",
      "99/99 = 9/9\n"
     ]
    }
   ],
   "source": [
    "# ab/cd == a/c and b==d\n",
    "# ab/cd == a/d and b==c\n",
    "# ab/cd == b/c and a==d\n",
    "# ab/cd == b/d and a==c\n",
    "\n",
    "l = []\n",
    "d = []\n",
    "for a in range(10):\n",
    "    for b in range(10):\n",
    "        for c in range(10):\n",
    "            for d in range(10):\n",
    "                if 10*c+d>0 and c>0 and b>0 and Fraction(10*a+b, 10*c+d)==Fraction(a,c) and b==d and a+b>0:\n",
    "                    #print(f\"{a}{b}/{c}{d} = {a}/{c}\")\n",
    "                    l.append([a,b,c,d])\n",
    "                    \n",
    "                if 10*c+d>0 and d>0 and Fraction(10*a+b, 10*c+d)==Fraction(a,d) and b==c and a+b>0 and Fraction(10*a+b, 10*c+d)<=1: \n",
    "#                    print(f\"{a}{b}/{c}{d} = {a}/{d}\")\n",
    "                    l.append([a,b,c,d])\n",
    "                if 10*c+d>0 and c>0 and Fraction(10*a+b, 10*c+d)==Fraction(b,c) and a==d and a+b>0 and Fraction(10*a+b, 10*c+d)<=1: \n",
    "#                    print(f\"{a}{b}/{c}{d} = {b}/{c}\")\n",
    "                    l.append([a,b,c,d])\n",
    "                if 10*c+d>0 and c>0 and d>0 and Fraction(10*a+b, 10*c+d)==Fraction(b,d) and a==c and a+b>0 and Fraction(10*a+b, 10*c+d)<=1: \n",
    "                    print(f\"{a}{b}/{c}{d} = {b}/{d}\")\n",
    "                    l.append([a,b,c,d])\n",
    "                    \n",
    "                    "
   ]
  },
  {
   "cell_type": "code",
   "execution_count": 56,
   "id": "2065e849-42b4-40e0-8207-9f9f5c5f21c7",
   "metadata": {},
   "outputs": [
    {
     "name": "stdout",
     "output_type": "stream",
     "text": [
      "0.0\n",
      "0.0\n",
      "0.0\n",
      "0.0\n"
     ]
    }
   ],
   "source": [
    "print(16/64 - 1/4)\n",
    "print(19/95 - 1/5)\n",
    "print(26/65 - 2/5)\n",
    "print(49/98 - 4/8)"
   ]
  },
  {
   "cell_type": "code",
   "execution_count": 55,
   "id": "6d922e35-01e6-4756-ac9d-d3a6a5253b66",
   "metadata": {},
   "outputs": [
    {
     "data": {
      "text/plain": [
       "38729600"
      ]
     },
     "execution_count": 55,
     "metadata": {},
     "output_type": "execute_result"
    }
   ],
   "source": [
    "(1/4)*(1/5)*(2/5)*(4/8)\n",
    "64*95*65*98"
   ]
  },
  {
   "cell_type": "code",
   "execution_count": 66,
   "id": "dac9a912-bc9c-49a8-81de-0c4a2eacae08",
   "metadata": {},
   "outputs": [],
   "source": [
    "a = [Fraction(16,64), Fraction(19,95), Fraction(26,65), Fraction(49,98)]\n",
    "res=1\n",
    "for f in a:\n",
    "    res = res*f"
   ]
  },
  {
   "cell_type": "code",
   "execution_count": 67,
   "id": "e0756605-2f23-4522-92b0-5299c8938bb8",
   "metadata": {},
   "outputs": [
    {
     "data": {
      "text/plain": [
       "Fraction(1, 100)"
      ]
     },
     "execution_count": 67,
     "metadata": {},
     "output_type": "execute_result"
    }
   ],
   "source": [
    "res"
   ]
  },
  {
   "cell_type": "code",
   "execution_count": 69,
   "id": "ad693518-1d58-4263-b8c0-bfb989d2cab2",
   "metadata": {},
   "outputs": [
    {
     "data": {
      "text/plain": [
       "Fraction(1, 100)"
      ]
     },
     "execution_count": 69,
     "metadata": {},
     "output_type": "execute_result"
    }
   ],
   "source": [
    "Fraction(16,64)*Fraction(19,95)*Fraction(26,65)*Fraction(49,98)"
   ]
  },
  {
   "cell_type": "code",
   "execution_count": null,
   "id": "badb993c-fa82-4053-b2b5-8d45f74152c1",
   "metadata": {},
   "outputs": [],
   "source": []
  }
 ],
 "metadata": {
  "kernelspec": {
   "display_name": "Python 3 (ipykernel)",
   "language": "python",
   "name": "python3"
  },
  "language_info": {
   "codemirror_mode": {
    "name": "ipython",
    "version": 3
   },
   "file_extension": ".py",
   "mimetype": "text/x-python",
   "name": "python",
   "nbconvert_exporter": "python",
   "pygments_lexer": "ipython3",
   "version": "3.11.5"
  }
 },
 "nbformat": 4,
 "nbformat_minor": 5
}
