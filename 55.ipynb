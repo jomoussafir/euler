{
 "cells": [
  {
   "cell_type": "code",
   "execution_count": 77,
   "id": "da24c5de-87bf-4eac-9f49-76e4c3bad641",
   "metadata": {},
   "outputs": [
    {
     "data": {
      "text/plain": [
       "249"
      ]
     },
     "execution_count": 77,
     "metadata": {},
     "output_type": "execute_result"
    }
   ],
   "source": [
    "def rev_add(n):\n",
    "    n_rev = int(\"\".join(list(str(n))[::-1]))\n",
    "    return n + n_rev\n",
    "\n",
    "def is_pal(n):\n",
    "    return n==int(\"\".join(list(str(n))[::-1]))\n",
    "\n",
    "def pal_seq(n, iter_max=50):\n",
    "    l=[n]\n",
    "    iter=0\n",
    "    while iter==0 or (not is_pal(l[-1]) and iter<=iter_max):\n",
    "        iter+=1\n",
    "        l.append(rev_add(l[-1]))\n",
    "    return l\n",
    "\n",
    "def is_lychrel(n):\n",
    "    l=[n]\n",
    "    iter=0\n",
    "    while iter==0 or (not is_pal(l[-1]) and iter<=53):\n",
    "        iter+=1\n",
    "        l.append(rev_add(l[-1]))\n",
    "    return iter>50\n",
    "\n",
    "iter_max=50\n",
    "res =[]\n",
    "for i in range(1,10001):\n",
    "    if is_lychrel(i):\n",
    "        res.append([i, len(pal_seq(i, iter_max))])\n",
    "len(res)"
   ]
  },
  {
   "cell_type": "code",
   "execution_count": 65,
   "id": "e5dfaea9-a038-43d5-b583-492452820ce7",
   "metadata": {},
   "outputs": [],
   "source": [
    "def compute():\n",
    "\tans = sum(1 for i in range(10000) if is_lychrel(i))\n",
    "\treturn str(ans)\n",
    "\n",
    "\n",
    "def is_lychrel2(n):\n",
    "\tfor i in range(50):\n",
    "\t\tn += int(str(n)[ : : -1])\n",
    "\t\tif str(n) == str(n)[ : : -1]:\n",
    "\t\t\treturn False\n",
    "\treturn True"
   ]
  },
  {
   "cell_type": "code",
   "execution_count": 66,
   "id": "dc86c56d-95a0-4fa3-954e-19334584be86",
   "metadata": {},
   "outputs": [
    {
     "data": {
      "text/plain": [
       "'246'"
      ]
     },
     "execution_count": 66,
     "metadata": {},
     "output_type": "execute_result"
    }
   ],
   "source": [
    "compute()"
   ]
  },
  {
   "cell_type": "code",
   "execution_count": 72,
   "id": "938adbf8-2bdd-4c66-8e41-76be9607d492",
   "metadata": {},
   "outputs": [
    {
     "name": "stdout",
     "output_type": "stream",
     "text": [
      "4994 False True\n",
      "8778 False True\n",
      "9999 False True\n"
     ]
    }
   ],
   "source": [
    "for n in range(10001):\n",
    "    if is_lychrel(n)!=is_lychrel2(n):\n",
    "        print(n, is_lychrel(n), is_lychrel2(n))\n"
   ]
  },
  {
   "cell_type": "code",
   "execution_count": 76,
   "id": "f919c3ba-573b-4f98-a5bb-c2ac88a96b94",
   "metadata": {},
   "outputs": [
    {
     "data": {
      "text/plain": [
       "52"
      ]
     },
     "execution_count": 76,
     "metadata": {},
     "output_type": "execute_result"
    }
   ],
   "source": [
    "len(pal_seq(4994))\n",
    "#is_lychrel(4994)"
   ]
  },
  {
   "cell_type": "code",
   "execution_count": null,
   "id": "a5722109-86c6-46bb-9110-0767790bf90f",
   "metadata": {},
   "outputs": [],
   "source": []
  }
 ],
 "metadata": {
  "kernelspec": {
   "display_name": "Python 3",
   "language": "python",
   "name": "python3"
  },
  "language_info": {
   "codemirror_mode": {
    "name": "ipython",
    "version": 3
   },
   "file_extension": ".py",
   "mimetype": "text/x-python",
   "name": "python",
   "nbconvert_exporter": "python",
   "pygments_lexer": "ipython3",
   "version": "3.8.3"
  }
 },
 "nbformat": 4,
 "nbformat_minor": 5
}
