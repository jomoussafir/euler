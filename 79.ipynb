{
 "cells": [
  {
   "cell_type": "code",
   "execution_count": 3,
   "id": "79da2231-5542-4ad0-9468-2c41af7f2f2f",
   "metadata": {},
   "outputs": [],
   "source": [
    "import sys\n",
    "import numpy as np\n",
    "import pandas as pd\n",
    "from numba import njit, jit\n",
    "from itertools import combinations, permutations, combinations_with_replacement\n",
    "np.set_printoptions(threshold=sys.maxsize)\n",
    "np.set_printoptions(linewidth=100)"
   ]
  },
  {
   "cell_type": "code",
   "execution_count": 4,
   "id": "31707505-6b85-4d74-94f2-73a3dd75971b",
   "metadata": {
    "collapsed": true,
    "jupyter": {
     "outputs_hidden": true,
     "source_hidden": true
    },
    "tags": []
   },
   "outputs": [],
   "source": [
    "ai = list(set(pd.read_csv(\"0079_keylog.txt\", header=None).to_numpy().flatten()))\n",
    "al = [[int(x) for x in list(str(i))] for i in ai] "
   ]
  },
  {
   "cell_type": "code",
   "execution_count": 6,
   "id": "08cb10ba-732c-4e75-b197-0fab57d9780d",
   "metadata": {
    "collapsed": true,
    "jupyter": {
     "outputs_hidden": true,
     "source_hidden": true
    },
    "tags": []
   },
   "outputs": [],
   "source": [
    "def incl(a,b):\n",
    "    idx = {}\n",
    "\n",
    "    if a[0] in b:\n",
    "        idx[0] = b.index(a[0])\n",
    "    else:\n",
    "        return False\n",
    "    for i in np.arange(1, len(a)):\n",
    "        if a[i] in b[(idx[i-1]+1):]:\n",
    "            idx[i] = idx[i-1] + b[(idx[i-1]+1):].index(a[i])\n",
    "        else:\n",
    "            return False\n",
    "    return True"
   ]
  },
  {
   "cell_type": "code",
   "execution_count": 54,
   "id": "5ba78751-fe8e-40d7-bbbb-ebbf5134d157",
   "metadata": {},
   "outputs": [
    {
     "name": "stdout",
     "output_type": "stream",
     "text": [
      "(1, 2)\n",
      "(1, 3)\n",
      "(2, 1)\n",
      "(2, 3)\n",
      "(3, 1)\n",
      "(3, 2)\n"
     ]
    }
   ],
   "source": [
    "d = [1,2,3]\n",
    "for p in permutations(d,2):\n",
    "    print(p)"
   ]
  },
  {
   "cell_type": "code",
   "execution_count": 55,
   "id": "969572f7-e6b2-420a-ae08-b9693dc66c32",
   "metadata": {},
   "outputs": [
    {
     "name": "stdout",
     "output_type": "stream",
     "text": [
      "CPU times: user 102 ms, sys: 4.16 ms, total: 106 ms\n",
      "Wall time: 105 ms\n"
     ]
    }
   ],
   "source": [
    "%%time\n",
    "score = []\n",
    "d = [1,2,3,6,8,9]\n",
    "for p in permutations(d,6):\n",
    "    p1 = [7] + list(p) + [0]\n",
    "    sgn = [int(incl(t,p1)) for t in al]\n",
    "    if sum(sgn)>=30:\n",
    "        score.append([p1, sum(sgn)])"
   ]
  },
  {
   "cell_type": "code",
   "execution_count": 51,
   "id": "5860b98f-59c5-4f3f-81e9-850bf85fe084",
   "metadata": {},
   "outputs": [
    {
     "data": {
      "text/plain": [
       "[[[7, 3, 1, 6, 2, 8, 9, 0], 33], [[7, 3, 1, 6, 8, 2, 9, 0], 31]]"
      ]
     },
     "execution_count": 51,
     "metadata": {},
     "output_type": "execute_result"
    }
   ],
   "source": [
    "score"
   ]
  },
  {
   "cell_type": "code",
   "execution_count": 57,
   "id": "5fe22163-0565-4bdf-a7cf-17b5abba784c",
   "metadata": {},
   "outputs": [
    {
     "data": {
      "text/plain": [
       "73162890"
      ]
     },
     "execution_count": 57,
     "metadata": {},
     "output_type": "execute_result"
    }
   ],
   "source": [
    "73162890"
   ]
  },
  {
   "cell_type": "code",
   "execution_count": null,
   "id": "0e595859-fe7a-4ede-83b6-a798d81a73a2",
   "metadata": {},
   "outputs": [],
   "source": []
  }
 ],
 "metadata": {
  "kernelspec": {
   "display_name": "Python 3",
   "language": "python",
   "name": "python3"
  },
  "language_info": {
   "codemirror_mode": {
    "name": "ipython",
    "version": 3
   },
   "file_extension": ".py",
   "mimetype": "text/x-python",
   "name": "python",
   "nbconvert_exporter": "python",
   "pygments_lexer": "ipython3",
   "version": "3.8.3"
  }
 },
 "nbformat": 4,
 "nbformat_minor": 5
}
