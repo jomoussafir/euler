{
 "cells": [
  {
   "cell_type": "code",
   "execution_count": 1,
   "metadata": {},
   "outputs": [],
   "source": [
    "import numpy as np"
   ]
  },
  {
   "cell_type": "code",
   "execution_count": 69,
   "metadata": {},
   "outputs": [
    {
     "name": "stdout",
     "output_type": "stream",
     "text": [
      "8\n",
      "8\n"
     ]
    }
   ],
   "source": [
    "def tail_int(n, d):\n",
    "    n_str = str(n)\n",
    "    d = min(d, len(n_str) )\n",
    "    return sum([10**(len(n_str)-i-1) * int(n_str[i]) for i in range(len(n_str) - d, len(n_str))])\n",
    "\n",
    "n = 2**3\n",
    "print(n)\n",
    "print(tail_int(n, 4))"
   ]
  },
  {
   "cell_type": "code",
   "execution_count": 75,
   "metadata": {},
   "outputs": [
    {
     "name": "stdout",
     "output_type": "stream",
     "text": [
      "3958629376\n",
      "3958629376\n"
     ]
    }
   ],
   "source": [
    "k = 12000\n",
    "n = 1\n",
    "for i in range(k):\n",
    "    n = tail_int(2*n, 10)\n",
    "    \n",
    "print(n)\n",
    "print(tail_int(2**k, 10))"
   ]
  },
  {
   "cell_type": "code",
   "execution_count": 78,
   "metadata": {},
   "outputs": [],
   "source": [
    "k = 7830457\n",
    "n = 1\n",
    "for i in range(k):\n",
    "    n = tail_int(2*n, 10)\n",
    "\n",
    "tail_int(28433*n+1, 10)"
   ]
  }
 ],
 "metadata": {
  "kernelspec": {
   "display_name": "Python 3",
   "language": "python",
   "name": "python3"
  },
  "language_info": {
   "codemirror_mode": {
    "name": "ipython",
    "version": 3
   },
   "file_extension": ".py",
   "mimetype": "text/x-python",
   "name": "python",
   "nbconvert_exporter": "python",
   "pygments_lexer": "ipython3",
   "version": "3.8.3"
  }
 },
 "nbformat": 4,
 "nbformat_minor": 4
}
