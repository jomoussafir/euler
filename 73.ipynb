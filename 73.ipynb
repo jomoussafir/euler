{
 "cells": [
  {
   "cell_type": "code",
   "execution_count": 1,
   "id": "f238cd19-9858-45bd-874b-6bdc08ec5590",
   "metadata": {},
   "outputs": [],
   "source": [
    "import sys\n",
    "import numpy as np\n",
    "import pandas as pd\n",
    "np.set_printoptions(threshold=sys.maxsize)\n",
    "np.set_printoptions(linewidth=100)\n",
    "\n",
    "def gcd(a,b):\n",
    "    while b: a,b = b,a%b\n",
    "    return a\n",
    "\n",
    "def simplify(a,b):\n",
    "    g = gcd(a,b)\n",
    "    return (a//g,b//g)\n",
    "\n",
    "def farey(n):\n",
    "    fs = []\n",
    "    for i1 in np.arange(1,n+1):\n",
    "        for i2 in np.arange(1,i1):\n",
    "            r = simplify(i2,i1)\n",
    "            fs.append(r)\n",
    "    return fs"
   ]
  },
  {
   "cell_type": "code",
   "execution_count": 16,
   "id": "8e3b21fc-5503-4030-adc4-1e5bdd9c9bb3",
   "metadata": {},
   "outputs": [
    {
     "name": "stdout",
     "output_type": "stream",
     "text": [
      "CPU times: user 2min 20s, sys: 1min 35s, total: 3min 56s\n",
      "Wall time: 4min 50s\n"
     ]
    },
    {
     "data": {
      "text/plain": [
       "7295372"
      ]
     },
     "execution_count": 16,
     "metadata": {},
     "output_type": "execute_result"
    }
   ],
   "source": [
    "%%time\n",
    "z = farey(12000)\n",
    "\n",
    "z_sub = []\n",
    "for f in z:\n",
    "    if f[1]<3*f[0] and 2*f[0]<f[1]:\n",
    "        z_sub.append(f)\n",
    "\n",
    "a_sub = set(z_sub)\n",
    "len(a_sub)"
   ]
  },
  {
   "cell_type": "code",
   "execution_count": null,
   "id": "ec048a4d-523b-4216-87b2-236ddb54f36e",
   "metadata": {},
   "outputs": [],
   "source": []
  }
 ],
 "metadata": {
  "kernelspec": {
   "display_name": "Python 3",
   "language": "python",
   "name": "python3"
  },
  "language_info": {
   "codemirror_mode": {
    "name": "ipython",
    "version": 3
   },
   "file_extension": ".py",
   "mimetype": "text/x-python",
   "name": "python",
   "nbconvert_exporter": "python",
   "pygments_lexer": "ipython3",
   "version": "3.8.3"
  }
 },
 "nbformat": 4,
 "nbformat_minor": 5
}
