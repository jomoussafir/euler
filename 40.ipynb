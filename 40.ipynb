{
 "cells": [
  {
   "cell_type": "code",
   "execution_count": 20,
   "id": "56373250-2fb7-433f-b3c2-5c17bf4c6118",
   "metadata": {},
   "outputs": [
    {
     "data": {
      "text/plain": [
       "1"
      ]
     },
     "execution_count": 20,
     "metadata": {},
     "output_type": "execute_result"
    }
   ],
   "source": [
    "d = [0]+[int(s) for s in list(\"\".join([str(i) for i in range(1,1000000)]))]\n"
   ]
  },
  {
   "cell_type": "code",
   "execution_count": 21,
   "id": "e292fb73-0c78-452c-8d40-33693a0e7573",
   "metadata": {},
   "outputs": [
    {
     "data": {
      "text/plain": [
       "[1, 1, 5, 3, 7, 2, 1]"
      ]
     },
     "execution_count": 21,
     "metadata": {},
     "output_type": "execute_result"
    }
   ],
   "source": [
    "[d[1], d[10], d[100], d[1000], d[10000], d[100000], d[1000000]]"
   ]
  },
  {
   "cell_type": "code",
   "execution_count": 22,
   "id": "c830f43e-ae9d-42e9-9a02-78192ca5c9e8",
   "metadata": {},
   "outputs": [
    {
     "data": {
      "text/plain": [
       "210"
      ]
     },
     "execution_count": 22,
     "metadata": {},
     "output_type": "execute_result"
    }
   ],
   "source": [
    "7*15*2"
   ]
  },
  {
   "cell_type": "code",
   "execution_count": null,
   "id": "4d96c542-d600-494f-9252-48df495e7389",
   "metadata": {},
   "outputs": [],
   "source": []
  }
 ],
 "metadata": {
  "kernelspec": {
   "display_name": "Python 3",
   "language": "python",
   "name": "python3"
  },
  "language_info": {
   "codemirror_mode": {
    "name": "ipython",
    "version": 3
   },
   "file_extension": ".py",
   "mimetype": "text/x-python",
   "name": "python",
   "nbconvert_exporter": "python",
   "pygments_lexer": "ipython3",
   "version": "3.8.3"
  }
 },
 "nbformat": 4,
 "nbformat_minor": 5
}
