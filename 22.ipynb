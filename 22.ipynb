{
 "cells": [
  {
   "cell_type": "code",
   "execution_count": 10,
   "id": "76a32c82-cc13-460f-98a7-4ca3be2051fa",
   "metadata": {},
   "outputs": [
    {
     "data": {
      "text/plain": [
       "871198282"
      ]
     },
     "execution_count": 10,
     "metadata": {},
     "output_type": "execute_result"
    }
   ],
   "source": [
    "import string\n",
    "\n",
    "d = dict(zip(list(string.ascii_uppercase), list(range(1, 27))))\n",
    "\n",
    "f = open(\"p022_names.txt\")\n",
    "l = f.readlines()\n",
    "f.close()\n",
    "\n",
    "names=[s.strip() for s in l]\n",
    "names.sort()\n",
    "\n",
    "def score(str, d):\n",
    "    return sum([d[s] for s in str])\n",
    "\n",
    "score_d = dict(zip(names, [(i+1)*score(names[i], d) for i in range(len(names))]))\n",
    "\n",
    "sum(list(score_d.values()))"
   ]
  },
  {
   "cell_type": "code",
   "execution_count": null,
   "id": "f4e95fb2-32c6-4153-8474-b41e3ba9c20e",
   "metadata": {},
   "outputs": [],
   "source": []
  }
 ],
 "metadata": {
  "kernelspec": {
   "display_name": "Python 3",
   "language": "python",
   "name": "python3"
  },
  "language_info": {
   "codemirror_mode": {
    "name": "ipython",
    "version": 3
   },
   "file_extension": ".py",
   "mimetype": "text/x-python",
   "name": "python",
   "nbconvert_exporter": "python",
   "pygments_lexer": "ipython3",
   "version": "3.8.3"
  }
 },
 "nbformat": 4,
 "nbformat_minor": 5
}
