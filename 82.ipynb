{
 "cells": [
  {
   "cell_type": "code",
   "execution_count": 116,
   "id": "c1da1bc5-d9e0-4524-b3f4-3976feafba5f",
   "metadata": {},
   "outputs": [],
   "source": [
    "import numpy as np\n",
    "np.set_printoptions(precision=2, linewidth=400)\n",
    "import pandas as pd\n",
    "\n",
    "import matplotlib.pyplot as plt"
   ]
  },
  {
   "cell_type": "code",
   "execution_count": 127,
   "id": "e9a09656-a01d-4b20-bfbc-3836c345d8f6",
   "metadata": {},
   "outputs": [],
   "source": [
    "def tscs(x, i):\n",
    "    n = len(x)\n",
    "    y = np.zeros_like(x)\n",
    "    y[np.arange(i,n)] = np.cumsum(x[i:n])\n",
    "    y[np.arange(i,-1,-1)] = np.cumsum(x[np.arange(i,-1,-1)])\n",
    "    return y"
   ]
  },
  {
   "cell_type": "markdown",
   "id": "a4ff02f4-761e-4be9-a1c4-708c0840100a",
   "metadata": {},
   "source": [
    "## Example"
   ]
  },
  {
   "cell_type": "code",
   "execution_count": 137,
   "id": "bfa9cc35-ac48-4f98-8081-326ad8fd5311",
   "metadata": {},
   "outputs": [],
   "source": [
    "A = np.array([[131, 673, 234, 103, 18], \n",
    "              [201, 96, 342, 965, 150],\n",
    "              [630, 803, 746, 422, 111],\n",
    "              [537, 699, 497, 121, 956],\n",
    "              [805, 732, 524, 37, 331]])\n",
    "\n",
    "A = pd.read_csv(\"0082_matrix.txt\", header=None).to_numpy()"
   ]
  },
  {
   "cell_type": "code",
   "execution_count": 138,
   "id": "9972976b-9773-4b1d-8195-49655acd37a6",
   "metadata": {},
   "outputs": [],
   "source": [
    "B = np.zeros_like(A)\n",
    "nr, nc = A.shape\n",
    "\n",
    "j = nc-1\n",
    "B[:,j] = A[:,j]\n",
    "for j in np.arange(nc-2, -1, -1):\n",
    "    for i in np.arange(nr):\n",
    "        B[i,j] = min(tscs(A[:,j],i) + B[:,j+1])\n"
   ]
  },
  {
   "cell_type": "code",
   "execution_count": 141,
   "id": "a6c984f9-c7de-480b-8f2d-8a3c7704011d",
   "metadata": {},
   "outputs": [
    {
     "data": {
      "text/plain": [
       "260324"
      ]
     },
     "execution_count": 141,
     "metadata": {},
     "output_type": "execute_result"
    }
   ],
   "source": [
    "min(B[:,0])"
   ]
  },
  {
   "cell_type": "code",
   "execution_count": null,
   "id": "39f7956f-9423-4ab4-ab32-bed0a3b1ed13",
   "metadata": {},
   "outputs": [],
   "source": []
  }
 ],
 "metadata": {
  "kernelspec": {
   "display_name": "Python 3 (ipykernel)",
   "language": "python",
   "name": "python3"
  },
  "language_info": {
   "codemirror_mode": {
    "name": "ipython",
    "version": 3
   },
   "file_extension": ".py",
   "mimetype": "text/x-python",
   "name": "python",
   "nbconvert_exporter": "python",
   "pygments_lexer": "ipython3",
   "version": "3.11.5"
  }
 },
 "nbformat": 4,
 "nbformat_minor": 5
}
