{
 "cells": [
  {
   "cell_type": "code",
   "execution_count": 5,
   "id": "016381b6-2fa5-4053-a36f-63b5db0a8aed",
   "metadata": {},
   "outputs": [],
   "source": [
    "from fractions import Fraction\n",
    "\n",
    "def fact(n):\n",
    "    res = 1\n",
    "    for i in range(1, n+1):\n",
    "        res*=i\n",
    "    return res\n",
    "\n",
    "def C(n, p):\n",
    "    return Fraction(fact(n), fact(p)*fact(n-p))"
   ]
  },
  {
   "cell_type": "code",
   "execution_count": null,
   "id": "e29069db-fa84-4af9-8e43-69b47fefabca",
   "metadata": {},
   "outputs": [],
   "source": []
  },
  {
   "cell_type": "code",
   "execution_count": 10,
   "id": "7e6b3198-30ae-40f9-bd4a-120800594864",
   "metadata": {},
   "outputs": [],
   "source": [
    "l=[]\n",
    "for n in range(1,101):\n",
    "    for p in range(1,n):\n",
    "        if C(n,p)>1000000:\n",
    "            l.append([n,p])"
   ]
  },
  {
   "cell_type": "code",
   "execution_count": 12,
   "id": "dc4a5128-dd4a-454e-b086-faceb49c464f",
   "metadata": {},
   "outputs": [
    {
     "data": {
      "text/plain": [
       "4075"
      ]
     },
     "execution_count": 12,
     "metadata": {},
     "output_type": "execute_result"
    }
   ],
   "source": [
    "len(l)"
   ]
  },
  {
   "cell_type": "code",
   "execution_count": null,
   "id": "f192ac56-c8ec-4072-a4bf-e7ebeff9e9f3",
   "metadata": {},
   "outputs": [],
   "source": []
  }
 ],
 "metadata": {
  "kernelspec": {
   "display_name": "Python 3",
   "language": "python",
   "name": "python3"
  },
  "language_info": {
   "codemirror_mode": {
    "name": "ipython",
    "version": 3
   },
   "file_extension": ".py",
   "mimetype": "text/x-python",
   "name": "python",
   "nbconvert_exporter": "python",
   "pygments_lexer": "ipython3",
   "version": "3.8.3"
  }
 },
 "nbformat": 4,
 "nbformat_minor": 5
}
