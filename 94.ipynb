{
 "cells": [
  {
   "cell_type": "code",
   "execution_count": 3,
   "id": "94cd84cb-97d4-4ac4-83be-6e5e7d56c753",
   "metadata": {},
   "outputs": [],
   "source": [
    "import numpy as np\n",
    "import pandas as pd\n",
    "import matplotlib.pyplot as plt\n",
    "\n",
    "from numba import njit"
   ]
  },
  {
   "cell_type": "markdown",
   "id": "ddaf869a-f64d-48d0-b36b-9db928f9ac55",
   "metadata": {
    "jp-MarkdownHeadingCollapsed": true
   },
   "source": [
    "## Naive loop"
   ]
  },
  {
   "cell_type": "code",
   "execution_count": 28,
   "id": "84216c6c-b0b3-4683-852d-dc309c5c5b4c",
   "metadata": {},
   "outputs": [
    {
     "name": "stdout",
     "output_type": "stream",
     "text": [
      "CPU times: user 2.19 ms, sys: 26 µs, total: 2.22 ms\n",
      "Wall time: 2.21 ms\n"
     ]
    },
    {
     "data": {
      "text/plain": [
       "[[1, 1, 2], [5, 5, 6], [65, 65, 66]]"
      ]
     },
     "execution_count": 28,
     "metadata": {},
     "output_type": "execute_result"
    }
   ],
   "source": [
    "%%time\n",
    "def plist(amax):\n",
    "    l = []\n",
    "    for a in np.arange(1,amax):\n",
    "        s = float((3*a + 1)/2)\n",
    "        A = np.sqrt(s*(s-a)*(s-a)*(s-(a+1)))\n",
    "        if np.abs(A - np.round(A))<0.0000001:\n",
    "            l.append([a,a,a+1])\n",
    "    return l\n",
    "plist(100)"
   ]
  },
  {
   "cell_type": "code",
   "execution_count": 22,
   "id": "8b6c12d8-a13d-430f-bc7a-ce198d7b6202",
   "metadata": {},
   "outputs": [
    {
     "data": {
      "text/plain": [
       "428980680062.0"
      ]
     },
     "execution_count": 22,
     "metadata": {},
     "output_type": "execute_result"
    }
   ],
   "source": [
    "a = 995333\n",
    "s = (3*a + 1)/2\n",
    "A = np.sqrt(s*(s-a)*(s-a)*(s-(a+1)))\n",
    "A"
   ]
  },
  {
   "cell_type": "markdown",
   "id": "086d0f09-5948-4bb1-95a6-6f3ab38c3658",
   "metadata": {},
   "source": [
    "## Using Pell's equation"
   ]
  },
  {
   "cell_type": "code",
   "execution_count": 89,
   "id": "cb05c128-3a36-4061-9e77-96f3e4901d33",
   "metadata": {},
   "outputs": [],
   "source": [
    "## Continued fraction expansion of square root of d\n",
    "\n",
    "def heron(a,b,c):\n",
    "    s = (a+b+c)/2\n",
    "    return np.sqrt(s*(s-a)*(s-b)*(s-c))\n",
    "\n",
    "def CF(d,n):\n",
    "    if np.sqrt(d) != np.floor(np.sqrt(d)):\n",
    "        \n",
    "        a = []\n",
    "        r = []\n",
    "        u = []\n",
    "        v = []\n",
    "        h = []\n",
    "        k = []\n",
    "    \n",
    "        a += [int(np.floor(np.sqrt(d)))]\n",
    "        u += [a[0]]\n",
    "        v += [1]\n",
    "        r += [(np.sqrt(d) - u[0])/v[0]]\n",
    "    \n",
    "        a += [int(np.floor(1/r[0]))]\n",
    "        v += [int((d - u[0]*u[0])/v[0])]\n",
    "        u += [a[1]*v[1] - u[0]]\n",
    "        r += [(np.sqrt(d) - u[1])/v[1]]\n",
    "    \n",
    "        h+=[a[0]]\n",
    "        k+=[1]\n",
    "        h+=[a[1]*h[0] + 1]\n",
    "        k+=[a[1]*k[0]]\n",
    "    \n",
    "        for i in np.arange(2, n):\n",
    "            a += [int(np.floor(1/r[i-1]))]\n",
    "            v += [int((d - u[i-1]*u[i-1])/v[i-1])]\n",
    "            u += [a[i]*v[i] - u[i-1]]\n",
    "            r += [(np.sqrt(d) - u[i])/v[i]]\n",
    "            h += [a[i]*h[i-1] + h[i-2]]\n",
    "            k += [a[i]*k[i-1] + k[i-2]]       \n",
    "    \n",
    "        res  = {}\n",
    "        res[\"a\"] = a\n",
    "        res[\"h\"] = h\n",
    "        res[\"k\"] = k\n",
    "        \n",
    "    return res"
   ]
  },
  {
   "cell_type": "code",
   "execution_count": 82,
   "id": "954ff944-22d2-4633-94ee-9517986e6da4",
   "metadata": {},
   "outputs": [],
   "source": [
    "res = CF(3, 40)\n",
    "l = res[\"k\"]\n",
    "n = res[\"h\"]\n",
    "\n",
    "a1_list = []\n",
    "for i in np.arange(len(n)):\n",
    "    if n[i]**2 - 3*l[i]**2 == 1:\n",
    "        if (-1 + n[i])%3==0:\n",
    "            a1_list += [2*(-1 + n[i])//3 + 1]\n",
    "\n",
    "a2_list = []\n",
    "for i in np.arange(len(n)):\n",
    "    if n[i]**2 - 3*l[i]**2 == 1:\n",
    "        if (-2 + n[i])%3==0:\n",
    "            a2_list += [2*(-2 + n[i])//3 + 1]"
   ]
  },
  {
   "cell_type": "code",
   "execution_count": 98,
   "id": "e37d7208-5117-4dbc-aec3-a9521164bbb5",
   "metadata": {},
   "outputs": [
    {
     "data": {
      "text/plain": [
       "518408348"
      ]
     },
     "execution_count": 98,
     "metadata": {},
     "output_type": "execute_result"
    }
   ],
   "source": [
    "tr_df_list=[]\n",
    "\n",
    "for a in a1_list:\n",
    "    if 3*a+1 <= 1e9:\n",
    "        p = (3*a+1)\n",
    "        A = heron(a,a,a+1)\n",
    "        tr_df_list.append(pd.DataFrame({\"a\":[a], \"p\":p, \"A\":A}))\n",
    "\n",
    "for a in a2_list:\n",
    "    if 3*a+1 <= 1e9:\n",
    "        p = (3*a-1)\n",
    "        A = heron(a,a,a-1)\n",
    "        tr_df_list.append(pd.DataFrame({\"a\":[a], \"p\":p, \"A\":A}))\n",
    "\n",
    "tr_df = pd.concat(tr_df_list)\n",
    "tr_df[\"p\"].sum()"
   ]
  },
  {
   "cell_type": "code",
   "execution_count": 99,
   "id": "75dc6527-3313-41cb-94ae-54b2004d0850",
   "metadata": {},
   "outputs": [
    {
     "data": {
      "text/html": [
       "<div>\n",
       "<style scoped>\n",
       "    .dataframe tbody tr th:only-of-type {\n",
       "        vertical-align: middle;\n",
       "    }\n",
       "\n",
       "    .dataframe tbody tr th {\n",
       "        vertical-align: top;\n",
       "    }\n",
       "\n",
       "    .dataframe thead th {\n",
       "        text-align: right;\n",
       "    }\n",
       "</style>\n",
       "<table border=\"1\" class=\"dataframe\">\n",
       "  <thead>\n",
       "    <tr style=\"text-align: right;\">\n",
       "      <th></th>\n",
       "      <th>a</th>\n",
       "      <th>p</th>\n",
       "      <th>A</th>\n",
       "    </tr>\n",
       "  </thead>\n",
       "  <tbody>\n",
       "    <tr>\n",
       "      <th>0</th>\n",
       "      <td>5</td>\n",
       "      <td>16</td>\n",
       "      <td>1.200000e+01</td>\n",
       "    </tr>\n",
       "    <tr>\n",
       "      <th>0</th>\n",
       "      <td>65</td>\n",
       "      <td>196</td>\n",
       "      <td>1.848000e+03</td>\n",
       "    </tr>\n",
       "    <tr>\n",
       "      <th>0</th>\n",
       "      <td>901</td>\n",
       "      <td>2704</td>\n",
       "      <td>3.517800e+05</td>\n",
       "    </tr>\n",
       "    <tr>\n",
       "      <th>0</th>\n",
       "      <td>12545</td>\n",
       "      <td>37636</td>\n",
       "      <td>6.814987e+07</td>\n",
       "    </tr>\n",
       "    <tr>\n",
       "      <th>0</th>\n",
       "      <td>174725</td>\n",
       "      <td>524176</td>\n",
       "      <td>1.321942e+10</td>\n",
       "    </tr>\n",
       "    <tr>\n",
       "      <th>0</th>\n",
       "      <td>2433601</td>\n",
       "      <td>7300804</td>\n",
       "      <td>2.564481e+12</td>\n",
       "    </tr>\n",
       "    <tr>\n",
       "      <th>0</th>\n",
       "      <td>33895685</td>\n",
       "      <td>101687056</td>\n",
       "      <td>4.974959e+14</td>\n",
       "    </tr>\n",
       "    <tr>\n",
       "      <th>0</th>\n",
       "      <td>1</td>\n",
       "      <td>2</td>\n",
       "      <td>0.000000e+00</td>\n",
       "    </tr>\n",
       "    <tr>\n",
       "      <th>0</th>\n",
       "      <td>17</td>\n",
       "      <td>50</td>\n",
       "      <td>1.200000e+02</td>\n",
       "    </tr>\n",
       "    <tr>\n",
       "      <th>0</th>\n",
       "      <td>241</td>\n",
       "      <td>722</td>\n",
       "      <td>2.508000e+04</td>\n",
       "    </tr>\n",
       "    <tr>\n",
       "      <th>0</th>\n",
       "      <td>3361</td>\n",
       "      <td>10082</td>\n",
       "      <td>4.890480e+06</td>\n",
       "    </tr>\n",
       "    <tr>\n",
       "      <th>0</th>\n",
       "      <td>46817</td>\n",
       "      <td>140450</td>\n",
       "      <td>9.490774e+08</td>\n",
       "    </tr>\n",
       "    <tr>\n",
       "      <th>0</th>\n",
       "      <td>652081</td>\n",
       "      <td>1956242</td>\n",
       "      <td>1.841210e+11</td>\n",
       "    </tr>\n",
       "    <tr>\n",
       "      <th>0</th>\n",
       "      <td>9082321</td>\n",
       "      <td>27246962</td>\n",
       "      <td>3.571859e+13</td>\n",
       "    </tr>\n",
       "    <tr>\n",
       "      <th>0</th>\n",
       "      <td>126500417</td>\n",
       "      <td>379501250</td>\n",
       "      <td>6.929223e+15</td>\n",
       "    </tr>\n",
       "  </tbody>\n",
       "</table>\n",
       "</div>"
      ],
      "text/plain": [
       "           a          p             A\n",
       "0          5         16  1.200000e+01\n",
       "0         65        196  1.848000e+03\n",
       "0        901       2704  3.517800e+05\n",
       "0      12545      37636  6.814987e+07\n",
       "0     174725     524176  1.321942e+10\n",
       "0    2433601    7300804  2.564481e+12\n",
       "0   33895685  101687056  4.974959e+14\n",
       "0          1          2  0.000000e+00\n",
       "0         17         50  1.200000e+02\n",
       "0        241        722  2.508000e+04\n",
       "0       3361      10082  4.890480e+06\n",
       "0      46817     140450  9.490774e+08\n",
       "0     652081    1956242  1.841210e+11\n",
       "0    9082321   27246962  3.571859e+13\n",
       "0  126500417  379501250  6.929223e+15"
      ]
     },
     "execution_count": 99,
     "metadata": {},
     "output_type": "execute_result"
    }
   ],
   "source": [
    "tr_df"
   ]
  },
  {
   "cell_type": "code",
   "execution_count": null,
   "id": "152d2256-5f91-461d-9721-627f3b4d6bbf",
   "metadata": {},
   "outputs": [],
   "source": []
  }
 ],
 "metadata": {
  "kernelspec": {
   "display_name": "Python 3 (ipykernel)",
   "language": "python",
   "name": "python3"
  },
  "language_info": {
   "codemirror_mode": {
    "name": "ipython",
    "version": 3
   },
   "file_extension": ".py",
   "mimetype": "text/x-python",
   "name": "python",
   "nbconvert_exporter": "python",
   "pygments_lexer": "ipython3",
   "version": "3.11.5"
  }
 },
 "nbformat": 4,
 "nbformat_minor": 5
}
