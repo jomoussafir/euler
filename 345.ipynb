{
 "cells": [
  {
   "cell_type": "code",
   "execution_count": 202,
   "metadata": {},
   "outputs": [],
   "source": [
    "from itertools import permutations, combinations\n",
    "\n",
    "import numpy as np\n",
    "import pandas as pd\n",
    "np.set_printoptions(linewidth=200)\n",
    "\n",
    "import matplotlib.pyplot as plt\n"
   ]
  },
  {
   "cell_type": "code",
   "execution_count": 162,
   "metadata": {},
   "outputs": [],
   "source": [
    "a = pd.read_csv(\"matrix_euler_345.txt\", header=None).to_numpy()"
   ]
  },
  {
   "cell_type": "code",
   "execution_count": 222,
   "metadata": {},
   "outputs": [
    {
     "name": "stdout",
     "output_type": "stream",
     "text": [
      "CPU times: user 10 µs, sys: 2 µs, total: 12 µs\n",
      "Wall time: 16.2 µs\n"
     ]
    }
   ],
   "source": [
    "%%time\n",
    "def euler_345(a):\n",
    "    n=a.shape[0]\n",
    "    A = {}\n",
    "    for j in np.arange(n):\n",
    "        A[j] = {}\n",
    "\n",
    "    for k in np.arange(n):\n",
    "        A[n-1][(k,)] = a[k,n-1]\n",
    "\n",
    "    for j in np.arange(n-2, -1, -1):\n",
    "        p_list = combinations(range(n), n-j)\n",
    "        for p in list(p_list):\n",
    "            A_list_tmp=[]\n",
    "            for k in p:\n",
    "                row_list= list(set(p) - set((k,)))\n",
    "                row_list.sort()\n",
    "                row_tuple = tuple(row_list)\n",
    "                A_list_tmp.append(a[k, j] + A[j+1][row_tuple])\n",
    "            A[j][p] = max(A_list_tmp)\n",
    "    k0 = tuple(np.arange(n))\n",
    "    return(A[0][k0])"
   ]
  },
  {
   "cell_type": "code",
   "execution_count": 205,
   "metadata": {},
   "outputs": [
    {
     "name": "stdout",
     "output_type": "stream",
     "text": [
      "[2][3][4][5][6][7][8][9][10][11][12][13][14][15]"
     ]
    }
   ],
   "source": [
    "nb_traj=100\n",
    "n_min = 2\n",
    "n_max = 14\n",
    "max_sum_list=[]\n",
    "\n",
    "for n in np.arange(n_min, n_max+1):\n",
    "    print(f\"[{n}]\", end=\"\")\n",
    "    for i in np.arange(nb_traj):\n",
    "        a = np.random.normal(size=n*n).reshape((n,n))\n",
    "        max_sum_list.append(pd.DataFrame({\"n\":[n], \"max_sum\":euler_345(a)}))\n",
    "\n",
    "max_sum_df = pd.concat(max_sum_list)"
   ]
  },
  {
   "cell_type": "code",
   "execution_count": 206,
   "metadata": {},
   "outputs": [],
   "source": [
    "z_df = max_sum_df.groupby(\"n\").mean()"
   ]
  },
  {
   "cell_type": "code",
   "execution_count": 242,
   "metadata": {},
   "outputs": [
    {
     "name": "stdout",
     "output_type": "stream",
     "text": [
      "[2][3][4][5][6][7][8][9][10][11][12][13][14][15][16][17][18][19][20][21][22][23][24][25][26][27][28][29][30][31][32][33][34][35][36][37][38][39][40][41][42][43][44][45][46][47][48][49][50][51][52][53][54][55][56][57][58][59][60][61][62][63][64][65][66][67][68][69][70][71][72][73][74][75][76][77][78][79][80][81][82][83][84][85][86][87][88][89][90][91][92][93][94][95][96][97][98][99][100]"
     ]
    }
   ],
   "source": [
    "nb_traj=2000\n",
    "n_min = 2\n",
    "n_max = 100\n",
    "max_sum_list=[]\n",
    "\n",
    "for n in np.arange(n_min, n_max+1):\n",
    "    print(f\"[{n}]\", end=\"\")\n",
    "    for i in np.arange(nb_traj):\n",
    "        M = np.random.normal(size=n*n).reshape((n,n))\n",
    "        C = np.max(M) - M\n",
    "        row, col = lsa(C)\n",
    "        max_sum = sum([M[row[i]][col[i]] for i in range(len(row))])\n",
    "        max_sum_list.append(pd.DataFrame({\"n\":[n], \"max_sum\":max_sum}))\n",
    "\n",
    "max_sum_df = pd.concat(max_sum_list)"
   ]
  },
  {
   "cell_type": "code",
   "execution_count": 241,
   "metadata": {},
   "outputs": [
    {
     "data": {
      "text/plain": [
       "[<matplotlib.lines.Line2D at 0x7f7f9a162fd0>]"
      ]
     },
     "execution_count": 241,
     "metadata": {},
     "output_type": "execute_result"
    },
    {
     "data": {
      "image/png": "[encoded data removed]",
      "text/plain": [
       "<Figure size 432x288 with 1 Axes>"
      ]
     },
     "metadata": {
      "needs_background": "light"
     },
     "output_type": "display_data"
    }
   ],
   "source": [
    "z_df = max_sum_df.groupby(\"n\").mean()\n",
    "z_df.reset_index(inplace=True)\n",
    "z_df[\"ratio\"] = z_df[\"max_sum\"]/z_df[\"n\"]\n",
    "plt.plot(np.log(z_df[\"n\"]), z_df[\"ratio\"])"
   ]
  },
  {
   "cell_type": "code",
   "execution_count": 243,
   "metadata": {},
   "outputs": [
    {
     "data": {
      "text/plain": [
       "468"
      ]
     },
     "execution_count": 243,
     "metadata": {},
     "output_type": "execute_result"
    }
   ],
   "source": [
    "36*13"
   ]
  },
  {
   "cell_type": "code",
   "execution_count": null,
   "metadata": {},
   "outputs": [],
   "source": []
  }
 ],
 "metadata": {
  "kernelspec": {
   "display_name": "Python 3",
   "language": "python",
   "name": "python3"
  },
  "language_info": {
   "codemirror_mode": {
    "name": "ipython",
    "version": 3
   },
   "file_extension": ".py",
   "mimetype": "text/x-python",
   "name": "python",
   "nbconvert_exporter": "python",
   "pygments_lexer": "ipython3",
   "version": "3.8.3"
  }
 },
 "nbformat": 4,
 "nbformat_minor": 4
}
